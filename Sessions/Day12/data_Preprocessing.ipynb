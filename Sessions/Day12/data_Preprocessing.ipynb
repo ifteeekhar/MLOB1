{
 "cells": [
  {
   "cell_type": "markdown",
   "metadata": {
    "hideCode": false,
    "hidePrompt": false
   },
   "source": [
    "<center><h1>Diving into Data Preprocessing</h1></center>"
   ]
  },
  {
   "cell_type": "markdown",
   "metadata": {
    "hideCode": false,
    "hidePrompt": false
   },
   "source": [
    "## Table of contents\n",
    "\n",
    "* [Feature Engineering](#feat_engg)\n",
    "    * [Missing Values Treatment](#missing)\n",
    "    * [Outliers Treatment](#outliers)\n",
    "    * [Categorical Data Handling](#cat)\n",
    "    * [Imbalanced Class Handling](#imbal)\n",
    "    * [Data Transformation](#trans)\n",
    "    * [Extracting Date](#date)\n"
   ]
  },
  {
   "cell_type": "markdown",
   "metadata": {
    "hideCode": false,
    "hidePrompt": false
   },
   "source": [
    "<a id='feat_engg'></a>\n",
    "## Feature Engineering"
   ]
  },
  {
   "cell_type": "markdown",
   "metadata": {
    "hideCode": false,
    "hidePrompt": false
   },
   "source": [
    "### What is Feature Engineering?\n",
    "**Feature engineering is about creating new input features from your existing ones.**\n",
    "\n",
    "This is often one of the most valuable tasks a data scientist can do to improve model performance, for 3 big reasons:\n",
    "\n",
    "* You can isolate and highlight key information, which helps your algorithms \"focus\" on what’s important.\n",
    "* You can bring in your own domain expertise.\n",
    "* Most importantly, once you understand the \"vocabulary\" of feature engineering, you can bring in other people’s domain expertise!\n",
    "\n",
    "*\"The features you use influence more than everything else the result. No algorithm alone, to my knowledge, can supplement the information gain given by correct feature engineering.\"* — Luca Massaron"
   ]
  },
  {
   "cell_type": "markdown",
   "metadata": {
    "hideCode": false,
    "hidePrompt": false
   },
   "source": [
    "#### Toy dataset"
   ]
  },
  {
   "cell_type": "code",
   "execution_count": 303,
   "metadata": {
    "hideCode": false,
    "hidePrompt": false,
    "scrolled": true
   },
   "outputs": [
    {
     "data": {
      "text/html": [
       "<div>\n",
       "<style scoped>\n",
       "    .dataframe tbody tr th:only-of-type {\n",
       "        vertical-align: middle;\n",
       "    }\n",
       "\n",
       "    .dataframe tbody tr th {\n",
       "        vertical-align: top;\n",
       "    }\n",
       "\n",
       "    .dataframe thead th {\n",
       "        text-align: right;\n",
       "    }\n",
       "</style>\n",
       "<table border=\"1\" class=\"dataframe\">\n",
       "  <thead>\n",
       "    <tr style=\"text-align: right;\">\n",
       "      <th></th>\n",
       "      <th>col1</th>\n",
       "      <th>col2</th>\n",
       "      <th>col3</th>\n",
       "      <th>col4</th>\n",
       "    </tr>\n",
       "  </thead>\n",
       "  <tbody>\n",
       "    <tr>\n",
       "      <th>0</th>\n",
       "      <td>51.0</td>\n",
       "      <td>NaN</td>\n",
       "      <td>male</td>\n",
       "      <td>good</td>\n",
       "    </tr>\n",
       "    <tr>\n",
       "      <th>1</th>\n",
       "      <td>22.0</td>\n",
       "      <td>NaN</td>\n",
       "      <td>male</td>\n",
       "      <td>bad</td>\n",
       "    </tr>\n",
       "    <tr>\n",
       "      <th>2</th>\n",
       "      <td>13.0</td>\n",
       "      <td>89.0</td>\n",
       "      <td>male</td>\n",
       "      <td>good</td>\n",
       "    </tr>\n",
       "    <tr>\n",
       "      <th>3</th>\n",
       "      <td>64.0</td>\n",
       "      <td>NaN</td>\n",
       "      <td>male</td>\n",
       "      <td>NaN</td>\n",
       "    </tr>\n",
       "    <tr>\n",
       "      <th>4</th>\n",
       "      <td>50.0</td>\n",
       "      <td>76.0</td>\n",
       "      <td>male</td>\n",
       "      <td>good</td>\n",
       "    </tr>\n",
       "    <tr>\n",
       "      <th>5</th>\n",
       "      <td>NaN</td>\n",
       "      <td>NaN</td>\n",
       "      <td>male</td>\n",
       "      <td>bad</td>\n",
       "    </tr>\n",
       "    <tr>\n",
       "      <th>6</th>\n",
       "      <td>17.0</td>\n",
       "      <td>53.0</td>\n",
       "      <td>male</td>\n",
       "      <td>bad</td>\n",
       "    </tr>\n",
       "    <tr>\n",
       "      <th>7</th>\n",
       "      <td>580.0</td>\n",
       "      <td>NaN</td>\n",
       "      <td>NaN</td>\n",
       "      <td>NaN</td>\n",
       "    </tr>\n",
       "    <tr>\n",
       "      <th>8</th>\n",
       "      <td>19.0</td>\n",
       "      <td>900.0</td>\n",
       "      <td>female</td>\n",
       "      <td>good</td>\n",
       "    </tr>\n",
       "    <tr>\n",
       "      <th>9</th>\n",
       "      <td>1000.0</td>\n",
       "      <td>NaN</td>\n",
       "      <td>NaN</td>\n",
       "      <td>NaN</td>\n",
       "    </tr>\n",
       "  </tbody>\n",
       "</table>\n",
       "</div>"
      ],
      "text/plain": [
       "     col1   col2    col3  col4\n",
       "0    51.0    NaN    male  good\n",
       "1    22.0    NaN    male   bad\n",
       "2    13.0   89.0    male  good\n",
       "3    64.0    NaN    male   NaN\n",
       "4    50.0   76.0    male  good\n",
       "5     NaN    NaN    male   bad\n",
       "6    17.0   53.0    male   bad\n",
       "7   580.0    NaN     NaN   NaN\n",
       "8    19.0  900.0  female  good\n",
       "9  1000.0    NaN     NaN   NaN"
      ]
     },
     "execution_count": 303,
     "metadata": {},
     "output_type": "execute_result"
    }
   ],
   "source": [
    "import pandas as pd\n",
    "import numpy as np\n",
    "import warnings\n",
    "warnings.filterwarnings('ignore')\n",
    "\n",
    "dt = {\"col1\":[51,22,13,64,50,np.nan,17,580,19,1000],\n",
    "      \"col2\":[np.nan,np.nan,89,np.nan,76,np.nan,53,np.nan,900,np.nan],\n",
    "      \"col3\":['male','male','male','male','male','male','male',np.nan,'female',np.nan],\n",
    "      \"col4\":['good','bad','good',np.nan,'good','bad','bad',np.nan,'good',np.nan]}\n",
    "\n",
    "data = pd.DataFrame(dt)\n",
    "\n",
    "data"
   ]
  },
  {
   "cell_type": "markdown",
   "metadata": {
    "hideCode": false,
    "hidePrompt": false
   },
   "source": [
    "<a id='missing'></a>\n",
    "### Missing Values Treatment"
   ]
  },
  {
   "cell_type": "markdown",
   "metadata": {
    "heading_collapsed": true,
    "hideCode": false,
    "hidePrompt": false
   },
   "source": [
    "#### Analyze missing values"
   ]
  },
  {
   "cell_type": "code",
   "execution_count": 304,
   "metadata": {
    "hidden": true,
    "hideCode": false,
    "hidePrompt": false,
    "scrolled": false
   },
   "outputs": [
    {
     "data": {
      "text/plain": [
       "col1    1\n",
       "col2    6\n",
       "col3    2\n",
       "col4    3\n",
       "dtype: int64"
      ]
     },
     "execution_count": 304,
     "metadata": {},
     "output_type": "execute_result"
    }
   ],
   "source": [
    "data.isna().sum()"
   ]
  },
  {
   "cell_type": "code",
   "execution_count": 305,
   "metadata": {},
   "outputs": [
    {
     "data": {
      "text/plain": [
       "7    3\n",
       "9    3\n",
       "3    2\n",
       "5    2\n",
       "1    1\n",
       "0    1\n",
       "4    0\n",
       "2    0\n",
       "6    0\n",
       "8    0\n",
       "dtype: int64"
      ]
     },
     "execution_count": 305,
     "metadata": {},
     "output_type": "execute_result"
    }
   ],
   "source": [
    "data.isna().sum(axis=1).sort_values(ascending=False)"
   ]
  },
  {
   "cell_type": "code",
   "execution_count": 306,
   "metadata": {},
   "outputs": [
    {
     "data": {
      "text/plain": [
       "0    1\n",
       "1    1\n",
       "2    0\n",
       "3    2\n",
       "4    0\n",
       "5    2\n",
       "6    0\n",
       "7    3\n",
       "8    0\n",
       "9    3\n",
       "dtype: int64"
      ]
     },
     "execution_count": 306,
     "metadata": {},
     "output_type": "execute_result"
    }
   ],
   "source": [
    "# Count of missing values for each row\n",
    "data.isna().sum(axis=1)"
   ]
  },
  {
   "cell_type": "markdown",
   "metadata": {
    "heading_collapsed": true,
    "hideCode": false,
    "hidePrompt": false
   },
   "source": [
    "### Drop columns\n",
    "\n",
    "Explanation:\n",
    "\n",
    "threshold = 0.5 → Sets the maximum allowed proportion of missing values (50%) for a column.\n",
    "\n",
    "data.isnull().mean() → Computes the fraction of missing values in each column.\n",
    "\n",
    "data.columns[data.isnull().mean() < threshold] → Selects only columns where the missing value fraction is less than 0.5.\n",
    "\n",
    "data[...] → Keeps only the selected columns in the DataFrame, effectively dropping columns with too many missing values.\n",
    "\n",
    "In short: This code removes all columns from data that have more than 50% missing values."
   ]
  },
  {
   "cell_type": "code",
   "execution_count": 307,
   "metadata": {
    "hidden": true,
    "hideCode": false,
    "hidePrompt": false
   },
   "outputs": [],
   "source": [
    "threshold = 0.5\n",
    "\n",
    "# Dropping columns with missing value rate higher than threshold\n",
    "# Keep only columns where the fraction of missing values is less than the threshold\n",
    "# Step 1: data.isnull() → Returns a DataFrame of the same shape as 'data' with True for missing values and False for non-missing.\n",
    "# Step 2: data.isnull().mean() → Calculates the mean of True/False values for each column (True=1, False=0),\n",
    "#         giving the fraction of missing values per column.\n",
    "# Step 3: data.isnull().mean() < threshold → Creates a boolean Series indicating which columns have missing fraction < threshold.\n",
    "# Step 4: data.columns[...] → Selects the column names where the above condition is True.\n",
    "# Step 5: data[...] → Filters the DataFrame to keep only the selected columns,\n",
    "#         effectively dropping columns with too many missing values.\n",
    "data = data[data.columns[data.isnull().mean() < threshold]]\n"
   ]
  },
  {
   "cell_type": "code",
   "execution_count": 308,
   "metadata": {
    "hidden": true,
    "hideCode": false,
    "hidePrompt": false,
    "scrolled": true
   },
   "outputs": [
    {
     "data": {
      "text/html": [
       "<div>\n",
       "<style scoped>\n",
       "    .dataframe tbody tr th:only-of-type {\n",
       "        vertical-align: middle;\n",
       "    }\n",
       "\n",
       "    .dataframe tbody tr th {\n",
       "        vertical-align: top;\n",
       "    }\n",
       "\n",
       "    .dataframe thead th {\n",
       "        text-align: right;\n",
       "    }\n",
       "</style>\n",
       "<table border=\"1\" class=\"dataframe\">\n",
       "  <thead>\n",
       "    <tr style=\"text-align: right;\">\n",
       "      <th></th>\n",
       "      <th>col1</th>\n",
       "      <th>col3</th>\n",
       "      <th>col4</th>\n",
       "    </tr>\n",
       "  </thead>\n",
       "  <tbody>\n",
       "    <tr>\n",
       "      <th>0</th>\n",
       "      <td>51.0</td>\n",
       "      <td>male</td>\n",
       "      <td>good</td>\n",
       "    </tr>\n",
       "    <tr>\n",
       "      <th>1</th>\n",
       "      <td>22.0</td>\n",
       "      <td>male</td>\n",
       "      <td>bad</td>\n",
       "    </tr>\n",
       "    <tr>\n",
       "      <th>2</th>\n",
       "      <td>13.0</td>\n",
       "      <td>male</td>\n",
       "      <td>good</td>\n",
       "    </tr>\n",
       "    <tr>\n",
       "      <th>3</th>\n",
       "      <td>64.0</td>\n",
       "      <td>male</td>\n",
       "      <td>NaN</td>\n",
       "    </tr>\n",
       "    <tr>\n",
       "      <th>4</th>\n",
       "      <td>50.0</td>\n",
       "      <td>male</td>\n",
       "      <td>good</td>\n",
       "    </tr>\n",
       "    <tr>\n",
       "      <th>5</th>\n",
       "      <td>NaN</td>\n",
       "      <td>male</td>\n",
       "      <td>bad</td>\n",
       "    </tr>\n",
       "    <tr>\n",
       "      <th>6</th>\n",
       "      <td>17.0</td>\n",
       "      <td>male</td>\n",
       "      <td>bad</td>\n",
       "    </tr>\n",
       "    <tr>\n",
       "      <th>8</th>\n",
       "      <td>19.0</td>\n",
       "      <td>female</td>\n",
       "      <td>good</td>\n",
       "    </tr>\n",
       "  </tbody>\n",
       "</table>\n",
       "</div>"
      ],
      "text/plain": [
       "   col1    col3  col4\n",
       "0  51.0    male  good\n",
       "1  22.0    male   bad\n",
       "2  13.0    male  good\n",
       "3  64.0    male   NaN\n",
       "4  50.0    male  good\n",
       "5   NaN    male   bad\n",
       "6  17.0    male   bad\n",
       "8  19.0  female  good"
      ]
     },
     "execution_count": 308,
     "metadata": {},
     "output_type": "execute_result"
    }
   ],
   "source": [
    "# Dropping rows with missing value rate higher than threshold\n",
    "data = data.loc[data.isnull().mean(axis=1) < threshold]\n",
    "\n",
    "data\n"
   ]
  },
  {
   "cell_type": "code",
   "execution_count": 309,
   "metadata": {},
   "outputs": [
    {
     "name": "stdout",
     "output_type": "stream",
     "text": [
      "Mean of col1: 33.714285714285715\n",
      "Median of col1: 22.0\n",
      "Mode of col1: 13.0\n"
     ]
    }
   ],
   "source": [
    "\n",
    "# Print mean, median and mode for col1\n",
    "print(f\"Mean of col1: {data['col1'].mean()}\")\n",
    "print(f\"Median of col1: {data['col1'].median()}\")\n",
    "print(f\"Mode of col1: {data['col1'].mode().iloc[0]}\")"
   ]
  },
  {
   "cell_type": "markdown",
   "metadata": {
    "heading_collapsed": true,
    "hideCode": false,
    "hidePrompt": false
   },
   "source": [
    "### Impute"
   ]
  },
  {
   "cell_type": "markdown",
   "metadata": {
    "heading_collapsed": true,
    "hidden": true,
    "hideCode": false,
    "hidePrompt": false
   },
   "source": [
    "#### Numerical Imputation"
   ]
  },
  {
   "cell_type": "code",
   "execution_count": 310,
   "metadata": {
    "hidden": true,
    "hideCode": false,
    "hidePrompt": false
   },
   "outputs": [],
   "source": [
    "num_cols = ['col1']"
   ]
  },
  {
   "cell_type": "code",
   "execution_count": 311,
   "metadata": {
    "hidden": true,
    "hideCode": false,
    "hidePrompt": false,
    "scrolled": false
   },
   "outputs": [
    {
     "data": {
      "text/html": [
       "<div>\n",
       "<style scoped>\n",
       "    .dataframe tbody tr th:only-of-type {\n",
       "        vertical-align: middle;\n",
       "    }\n",
       "\n",
       "    .dataframe tbody tr th {\n",
       "        vertical-align: top;\n",
       "    }\n",
       "\n",
       "    .dataframe thead th {\n",
       "        text-align: right;\n",
       "    }\n",
       "</style>\n",
       "<table border=\"1\" class=\"dataframe\">\n",
       "  <thead>\n",
       "    <tr style=\"text-align: right;\">\n",
       "      <th></th>\n",
       "      <th>col1</th>\n",
       "    </tr>\n",
       "  </thead>\n",
       "  <tbody>\n",
       "    <tr>\n",
       "      <th>0</th>\n",
       "      <td>51.000000</td>\n",
       "    </tr>\n",
       "    <tr>\n",
       "      <th>1</th>\n",
       "      <td>22.000000</td>\n",
       "    </tr>\n",
       "    <tr>\n",
       "      <th>2</th>\n",
       "      <td>13.000000</td>\n",
       "    </tr>\n",
       "    <tr>\n",
       "      <th>3</th>\n",
       "      <td>64.000000</td>\n",
       "    </tr>\n",
       "    <tr>\n",
       "      <th>4</th>\n",
       "      <td>50.000000</td>\n",
       "    </tr>\n",
       "    <tr>\n",
       "      <th>5</th>\n",
       "      <td>33.714286</td>\n",
       "    </tr>\n",
       "    <tr>\n",
       "      <th>6</th>\n",
       "      <td>17.000000</td>\n",
       "    </tr>\n",
       "    <tr>\n",
       "      <th>8</th>\n",
       "      <td>19.000000</td>\n",
       "    </tr>\n",
       "  </tbody>\n",
       "</table>\n",
       "</div>"
      ],
      "text/plain": [
       "        col1\n",
       "0  51.000000\n",
       "1  22.000000\n",
       "2  13.000000\n",
       "3  64.000000\n",
       "4  50.000000\n",
       "5  33.714286\n",
       "6  17.000000\n",
       "8  19.000000"
      ]
     },
     "execution_count": 311,
     "metadata": {},
     "output_type": "execute_result"
    }
   ],
   "source": [
    "# Filling all missing values with 0\n",
    "data[num_cols].fillna(data['col1'].mean())"
   ]
  },
  {
   "cell_type": "code",
   "execution_count": 312,
   "metadata": {
    "hidden": true,
    "hideCode": false,
    "hidePrompt": false,
    "scrolled": false
   },
   "outputs": [
    {
     "data": {
      "text/plain": [
       "0    51.0\n",
       "1    22.0\n",
       "2    13.0\n",
       "3    64.0\n",
       "4    50.0\n",
       "5    22.0\n",
       "6    17.0\n",
       "8    19.0\n",
       "Name: col1, dtype: float64"
      ]
     },
     "execution_count": 312,
     "metadata": {},
     "output_type": "execute_result"
    }
   ],
   "source": [
    "# Filling missing values with medians of the columns\n",
    "data['col1'].fillna(data['col1'].median())"
   ]
  },
  {
   "cell_type": "code",
   "execution_count": 313,
   "metadata": {
    "hidden": true
   },
   "outputs": [
    {
     "data": {
      "text/html": [
       "<div>\n",
       "<style scoped>\n",
       "    .dataframe tbody tr th:only-of-type {\n",
       "        vertical-align: middle;\n",
       "    }\n",
       "\n",
       "    .dataframe tbody tr th {\n",
       "        vertical-align: top;\n",
       "    }\n",
       "\n",
       "    .dataframe thead th {\n",
       "        text-align: right;\n",
       "    }\n",
       "</style>\n",
       "<table border=\"1\" class=\"dataframe\">\n",
       "  <thead>\n",
       "    <tr style=\"text-align: right;\">\n",
       "      <th></th>\n",
       "      <th>col1</th>\n",
       "      <th>col3</th>\n",
       "      <th>col4</th>\n",
       "    </tr>\n",
       "  </thead>\n",
       "  <tbody>\n",
       "    <tr>\n",
       "      <th>0</th>\n",
       "      <td>51.0</td>\n",
       "      <td>male</td>\n",
       "      <td>good</td>\n",
       "    </tr>\n",
       "    <tr>\n",
       "      <th>1</th>\n",
       "      <td>22.0</td>\n",
       "      <td>male</td>\n",
       "      <td>bad</td>\n",
       "    </tr>\n",
       "    <tr>\n",
       "      <th>2</th>\n",
       "      <td>13.0</td>\n",
       "      <td>male</td>\n",
       "      <td>good</td>\n",
       "    </tr>\n",
       "    <tr>\n",
       "      <th>3</th>\n",
       "      <td>64.0</td>\n",
       "      <td>male</td>\n",
       "      <td>NaN</td>\n",
       "    </tr>\n",
       "    <tr>\n",
       "      <th>4</th>\n",
       "      <td>50.0</td>\n",
       "      <td>male</td>\n",
       "      <td>good</td>\n",
       "    </tr>\n",
       "    <tr>\n",
       "      <th>5</th>\n",
       "      <td>22.0</td>\n",
       "      <td>male</td>\n",
       "      <td>bad</td>\n",
       "    </tr>\n",
       "    <tr>\n",
       "      <th>6</th>\n",
       "      <td>17.0</td>\n",
       "      <td>male</td>\n",
       "      <td>bad</td>\n",
       "    </tr>\n",
       "    <tr>\n",
       "      <th>8</th>\n",
       "      <td>19.0</td>\n",
       "      <td>female</td>\n",
       "      <td>good</td>\n",
       "    </tr>\n",
       "  </tbody>\n",
       "</table>\n",
       "</div>"
      ],
      "text/plain": [
       "   col1    col3  col4\n",
       "0  51.0    male  good\n",
       "1  22.0    male   bad\n",
       "2  13.0    male  good\n",
       "3  64.0    male   NaN\n",
       "4  50.0    male  good\n",
       "5  22.0    male   bad\n",
       "6  17.0    male   bad\n",
       "8  19.0  female  good"
      ]
     },
     "execution_count": 313,
     "metadata": {},
     "output_type": "execute_result"
    }
   ],
   "source": [
    "# Fill all numerical columns\n",
    "for col in num_cols:\n",
    "    data[col] = data[col].fillna(data[col].median())\n",
    "    \n",
    "data"
   ]
  },
  {
   "cell_type": "markdown",
   "metadata": {
    "heading_collapsed": true,
    "hidden": true,
    "hideCode": false,
    "hidePrompt": false
   },
   "source": [
    "#### Categorical Imputation"
   ]
  },
  {
   "cell_type": "code",
   "execution_count": 314,
   "metadata": {
    "hidden": true,
    "hideCode": false,
    "hidePrompt": false
   },
   "outputs": [],
   "source": [
    "cat_cols = ['col3', 'col4']"
   ]
  },
  {
   "cell_type": "code",
   "execution_count": 315,
   "metadata": {
    "hidden": true,
    "hideCode": false,
    "hidePrompt": false,
    "scrolled": true
   },
   "outputs": [
    {
     "data": {
      "text/plain": [
       "0      male\n",
       "1      male\n",
       "2      male\n",
       "3      male\n",
       "4      male\n",
       "5      male\n",
       "6      male\n",
       "8    female\n",
       "Name: col3, dtype: object"
      ]
     },
     "execution_count": 315,
     "metadata": {},
     "output_type": "execute_result"
    }
   ],
   "source": [
    "# Max fill function for categorical columns\n",
    "data['col3'].fillna(data['col3'].value_counts().idxmax())"
   ]
  },
  {
   "cell_type": "code",
   "execution_count": 316,
   "metadata": {
    "hidden": true,
    "hideCode": false,
    "hidePrompt": false
   },
   "outputs": [
    {
     "data": {
      "text/html": [
       "<div>\n",
       "<style scoped>\n",
       "    .dataframe tbody tr th:only-of-type {\n",
       "        vertical-align: middle;\n",
       "    }\n",
       "\n",
       "    .dataframe tbody tr th {\n",
       "        vertical-align: top;\n",
       "    }\n",
       "\n",
       "    .dataframe thead th {\n",
       "        text-align: right;\n",
       "    }\n",
       "</style>\n",
       "<table border=\"1\" class=\"dataframe\">\n",
       "  <thead>\n",
       "    <tr style=\"text-align: right;\">\n",
       "      <th></th>\n",
       "      <th>col1</th>\n",
       "      <th>col3</th>\n",
       "      <th>col4</th>\n",
       "    </tr>\n",
       "  </thead>\n",
       "  <tbody>\n",
       "    <tr>\n",
       "      <th>0</th>\n",
       "      <td>51.0</td>\n",
       "      <td>male</td>\n",
       "      <td>good</td>\n",
       "    </tr>\n",
       "    <tr>\n",
       "      <th>1</th>\n",
       "      <td>22.0</td>\n",
       "      <td>male</td>\n",
       "      <td>bad</td>\n",
       "    </tr>\n",
       "    <tr>\n",
       "      <th>2</th>\n",
       "      <td>13.0</td>\n",
       "      <td>male</td>\n",
       "      <td>good</td>\n",
       "    </tr>\n",
       "    <tr>\n",
       "      <th>3</th>\n",
       "      <td>64.0</td>\n",
       "      <td>male</td>\n",
       "      <td>good</td>\n",
       "    </tr>\n",
       "    <tr>\n",
       "      <th>4</th>\n",
       "      <td>50.0</td>\n",
       "      <td>male</td>\n",
       "      <td>good</td>\n",
       "    </tr>\n",
       "    <tr>\n",
       "      <th>5</th>\n",
       "      <td>22.0</td>\n",
       "      <td>male</td>\n",
       "      <td>bad</td>\n",
       "    </tr>\n",
       "    <tr>\n",
       "      <th>6</th>\n",
       "      <td>17.0</td>\n",
       "      <td>male</td>\n",
       "      <td>bad</td>\n",
       "    </tr>\n",
       "    <tr>\n",
       "      <th>8</th>\n",
       "      <td>19.0</td>\n",
       "      <td>female</td>\n",
       "      <td>good</td>\n",
       "    </tr>\n",
       "  </tbody>\n",
       "</table>\n",
       "</div>"
      ],
      "text/plain": [
       "   col1    col3  col4\n",
       "0  51.0    male  good\n",
       "1  22.0    male   bad\n",
       "2  13.0    male  good\n",
       "3  64.0    male  good\n",
       "4  50.0    male  good\n",
       "5  22.0    male   bad\n",
       "6  17.0    male   bad\n",
       "8  19.0  female  good"
      ]
     },
     "execution_count": 316,
     "metadata": {},
     "output_type": "execute_result"
    }
   ],
   "source": [
    "# Fill all categorical columns\n",
    "for col in cat_cols:\n",
    "    data[col] = data[col].fillna(data[col].value_counts().idxmax())\n",
    "    \n",
    "data"
   ]
  },
  {
   "cell_type": "code",
   "execution_count": 317,
   "metadata": {},
   "outputs": [
    {
     "name": "stdout",
     "output_type": "stream",
     "text": [
      "Mean of col1: 32.25\n"
     ]
    }
   ],
   "source": [
    "print(f\"Mean of col1: {data['col1'].mean()}\")\n"
   ]
  },
  {
   "cell_type": "markdown",
   "metadata": {
    "hidden": true,
    "hideCode": false,
    "hidePrompt": false
   },
   "source": [
    "<a id='outliers'></a>\n",
    "### Outliers Treatment"
   ]
  },
  {
   "cell_type": "markdown",
   "metadata": {
    "hidden": true,
    "hideCode": false,
    "hidePrompt": false
   },
   "source": [
    "#### Detect outliers using boxplots"
   ]
  },
  {
   "cell_type": "code",
   "execution_count": 318,
   "metadata": {
    "hidden": true,
    "hideCode": false,
    "hidePrompt": false,
    "scrolled": true
   },
   "outputs": [
    {
     "data": {
      "image/png": "[encoded data removed]",
      "text/plain": [
       "<Figure size 640x480 with 1 Axes>"
      ]
     },
     "metadata": {},
     "output_type": "display_data"
    }
   ],
   "source": [
    "data.plot.box();"
   ]
  },
  {
   "cell_type": "markdown",
   "metadata": {
    "hidden": true,
    "hideCode": false,
    "hidePrompt": false
   },
   "source": [
    "#### Detect outliers using interquartile range"
   ]
  },
  {
   "cell_type": "code",
   "execution_count": 319,
   "metadata": {
    "hidden": true,
    "hideCode": false,
    "hidePrompt": false
   },
   "outputs": [],
   "source": [
    "def detect_outlier(feature):\n",
    "    # Calculate the first quartile (Q1) — 25th percentile of the data\n",
    "    Q1 = feature.quantile(0.25)\n",
    "    \n",
    "    # Calculate the third quartile (Q3) — 75th percentile of the data\n",
    "    Q3 = feature.quantile(0.75)\n",
    "    \n",
    "    # Compute the Interquartile Range (IQR), which measures data spread\n",
    "    IQR = Q3 - Q1\n",
    "    \n",
    "    # Define the lower bound for outliers\n",
    "    # Any value below this is considered an outlier\n",
    "    lower_bound = Q1 - (1.5 * IQR)\n",
    "    \n",
    "    # Define the upper bound for outliers\n",
    "    # Any value above this is considered an outlier\n",
    "    upper_bound = Q3 + (1.5 * IQR)\n",
    "    \n",
    "    # Return the indices of all values that fall outside the acceptable range\n",
    "    # (i.e., below lower_bound or above upper_bound)\n",
    "    return feature.index[(feature < lower_bound) | (feature > upper_bound)].tolist()\n"
   ]
  },
  {
   "cell_type": "code",
   "execution_count": 320,
   "metadata": {
    "hidden": true,
    "scrolled": true
   },
   "outputs": [
    {
     "name": "stdout",
     "output_type": "stream",
     "text": [
      "col1 --> []\n"
     ]
    }
   ],
   "source": [
    "for col in num_cols:\n",
    "    print(col,'-->',detect_outlier(data[col]))"
   ]
  },
  {
   "cell_type": "markdown",
   "metadata": {
    "hidden": true
   },
   "source": [
    "#### Caping the outliers"
   ]
  },
  {
   "cell_type": "code",
   "execution_count": 321,
   "metadata": {
    "scrolled": true
   },
   "outputs": [],
   "source": [
    "for col in num_cols:\n",
    "    indx = detect_outlier(data[col])\n",
    "    data[col].loc[indx] = data[col].median()"
   ]
  },
  {
   "cell_type": "code",
   "execution_count": 322,
   "metadata": {},
   "outputs": [
    {
     "data": {
      "text/html": [
       "<div>\n",
       "<style scoped>\n",
       "    .dataframe tbody tr th:only-of-type {\n",
       "        vertical-align: middle;\n",
       "    }\n",
       "\n",
       "    .dataframe tbody tr th {\n",
       "        vertical-align: top;\n",
       "    }\n",
       "\n",
       "    .dataframe thead th {\n",
       "        text-align: right;\n",
       "    }\n",
       "</style>\n",
       "<table border=\"1\" class=\"dataframe\">\n",
       "  <thead>\n",
       "    <tr style=\"text-align: right;\">\n",
       "      <th></th>\n",
       "      <th>col1</th>\n",
       "      <th>col3</th>\n",
       "      <th>col4</th>\n",
       "    </tr>\n",
       "  </thead>\n",
       "  <tbody>\n",
       "    <tr>\n",
       "      <th>0</th>\n",
       "      <td>51.0</td>\n",
       "      <td>male</td>\n",
       "      <td>good</td>\n",
       "    </tr>\n",
       "    <tr>\n",
       "      <th>1</th>\n",
       "      <td>22.0</td>\n",
       "      <td>male</td>\n",
       "      <td>bad</td>\n",
       "    </tr>\n",
       "    <tr>\n",
       "      <th>2</th>\n",
       "      <td>13.0</td>\n",
       "      <td>male</td>\n",
       "      <td>good</td>\n",
       "    </tr>\n",
       "    <tr>\n",
       "      <th>3</th>\n",
       "      <td>64.0</td>\n",
       "      <td>male</td>\n",
       "      <td>good</td>\n",
       "    </tr>\n",
       "    <tr>\n",
       "      <th>4</th>\n",
       "      <td>50.0</td>\n",
       "      <td>male</td>\n",
       "      <td>good</td>\n",
       "    </tr>\n",
       "    <tr>\n",
       "      <th>5</th>\n",
       "      <td>22.0</td>\n",
       "      <td>male</td>\n",
       "      <td>bad</td>\n",
       "    </tr>\n",
       "    <tr>\n",
       "      <th>6</th>\n",
       "      <td>17.0</td>\n",
       "      <td>male</td>\n",
       "      <td>bad</td>\n",
       "    </tr>\n",
       "    <tr>\n",
       "      <th>8</th>\n",
       "      <td>19.0</td>\n",
       "      <td>female</td>\n",
       "      <td>good</td>\n",
       "    </tr>\n",
       "  </tbody>\n",
       "</table>\n",
       "</div>"
      ],
      "text/plain": [
       "   col1    col3  col4\n",
       "0  51.0    male  good\n",
       "1  22.0    male   bad\n",
       "2  13.0    male  good\n",
       "3  64.0    male  good\n",
       "4  50.0    male  good\n",
       "5  22.0    male   bad\n",
       "6  17.0    male   bad\n",
       "8  19.0  female  good"
      ]
     },
     "execution_count": 322,
     "metadata": {},
     "output_type": "execute_result"
    }
   ],
   "source": [
    "data"
   ]
  },
  {
   "cell_type": "markdown",
   "metadata": {},
   "source": [
    "#### Droping the rows that contain outliers"
   ]
  },
  {
   "cell_type": "code",
   "execution_count": 323,
   "metadata": {
    "scrolled": true
   },
   "outputs": [],
   "source": [
    "for col in num_cols:\n",
    "    indx = detect_outlier(data[col])\n",
    "    data[col].loc[indx] = np.nan\n",
    "\n",
    "data.dropna(inplace=True)"
   ]
  },
  {
   "cell_type": "markdown",
   "metadata": {},
   "source": [
    "<a id='cat'></a>\n",
    "### Categorical Data Handling"
   ]
  },
  {
   "cell_type": "markdown",
   "metadata": {},
   "source": [
    "#### Label Encoding"
   ]
  },
  {
   "cell_type": "code",
   "execution_count": 324,
   "metadata": {
    "scrolled": true
   },
   "outputs": [
    {
     "name": "stdout",
     "output_type": "stream",
     "text": [
      "col3 ----> {0: 'female', 1: 'male'}\n",
      "col4 ----> {0: 'bad', 1: 'good'}\n"
     ]
    }
   ],
   "source": [
    "for col in cat_cols:\n",
    "    data[col] = data[col].astype('category')\n",
    "    print(col,'---->', dict(enumerate(data[col].cat.categories)))\n",
    "    data[col] = data[col].cat.codes"
   ]
  },
  {
   "cell_type": "code",
   "execution_count": 325,
   "metadata": {},
   "outputs": [
    {
     "data": {
      "text/html": [
       "<div>\n",
       "<style scoped>\n",
       "    .dataframe tbody tr th:only-of-type {\n",
       "        vertical-align: middle;\n",
       "    }\n",
       "\n",
       "    .dataframe tbody tr th {\n",
       "        vertical-align: top;\n",
       "    }\n",
       "\n",
       "    .dataframe thead th {\n",
       "        text-align: right;\n",
       "    }\n",
       "</style>\n",
       "<table border=\"1\" class=\"dataframe\">\n",
       "  <thead>\n",
       "    <tr style=\"text-align: right;\">\n",
       "      <th></th>\n",
       "      <th>col1</th>\n",
       "      <th>col3</th>\n",
       "      <th>col4</th>\n",
       "    </tr>\n",
       "  </thead>\n",
       "  <tbody>\n",
       "    <tr>\n",
       "      <th>0</th>\n",
       "      <td>51.0</td>\n",
       "      <td>1</td>\n",
       "      <td>1</td>\n",
       "    </tr>\n",
       "    <tr>\n",
       "      <th>1</th>\n",
       "      <td>22.0</td>\n",
       "      <td>1</td>\n",
       "      <td>0</td>\n",
       "    </tr>\n",
       "    <tr>\n",
       "      <th>2</th>\n",
       "      <td>13.0</td>\n",
       "      <td>1</td>\n",
       "      <td>1</td>\n",
       "    </tr>\n",
       "    <tr>\n",
       "      <th>3</th>\n",
       "      <td>64.0</td>\n",
       "      <td>1</td>\n",
       "      <td>1</td>\n",
       "    </tr>\n",
       "    <tr>\n",
       "      <th>4</th>\n",
       "      <td>50.0</td>\n",
       "      <td>1</td>\n",
       "      <td>1</td>\n",
       "    </tr>\n",
       "    <tr>\n",
       "      <th>5</th>\n",
       "      <td>22.0</td>\n",
       "      <td>1</td>\n",
       "      <td>0</td>\n",
       "    </tr>\n",
       "    <tr>\n",
       "      <th>6</th>\n",
       "      <td>17.0</td>\n",
       "      <td>1</td>\n",
       "      <td>0</td>\n",
       "    </tr>\n",
       "    <tr>\n",
       "      <th>8</th>\n",
       "      <td>19.0</td>\n",
       "      <td>0</td>\n",
       "      <td>1</td>\n",
       "    </tr>\n",
       "  </tbody>\n",
       "</table>\n",
       "</div>"
      ],
      "text/plain": [
       "   col1  col3  col4\n",
       "0  51.0     1     1\n",
       "1  22.0     1     0\n",
       "2  13.0     1     1\n",
       "3  64.0     1     1\n",
       "4  50.0     1     1\n",
       "5  22.0     1     0\n",
       "6  17.0     1     0\n",
       "8  19.0     0     1"
      ]
     },
     "execution_count": 325,
     "metadata": {},
     "output_type": "execute_result"
    }
   ],
   "source": [
    "data"
   ]
  },
  {
   "cell_type": "markdown",
   "metadata": {},
   "source": [
    "#### One Hot Encoding"
   ]
  },
  {
   "cell_type": "code",
   "execution_count": 326,
   "metadata": {
    "scrolled": true
   },
   "outputs": [
    {
     "data": {
      "text/html": [
       "<div>\n",
       "<style scoped>\n",
       "    .dataframe tbody tr th:only-of-type {\n",
       "        vertical-align: middle;\n",
       "    }\n",
       "\n",
       "    .dataframe tbody tr th {\n",
       "        vertical-align: top;\n",
       "    }\n",
       "\n",
       "    .dataframe thead th {\n",
       "        text-align: right;\n",
       "    }\n",
       "</style>\n",
       "<table border=\"1\" class=\"dataframe\">\n",
       "  <thead>\n",
       "    <tr style=\"text-align: right;\">\n",
       "      <th></th>\n",
       "      <th>col1</th>\n",
       "      <th>col3_0</th>\n",
       "      <th>col3_1</th>\n",
       "      <th>col4_0</th>\n",
       "      <th>col4_1</th>\n",
       "    </tr>\n",
       "  </thead>\n",
       "  <tbody>\n",
       "    <tr>\n",
       "      <th>0</th>\n",
       "      <td>51.0</td>\n",
       "      <td>False</td>\n",
       "      <td>True</td>\n",
       "      <td>False</td>\n",
       "      <td>True</td>\n",
       "    </tr>\n",
       "    <tr>\n",
       "      <th>1</th>\n",
       "      <td>22.0</td>\n",
       "      <td>False</td>\n",
       "      <td>True</td>\n",
       "      <td>True</td>\n",
       "      <td>False</td>\n",
       "    </tr>\n",
       "    <tr>\n",
       "      <th>2</th>\n",
       "      <td>13.0</td>\n",
       "      <td>False</td>\n",
       "      <td>True</td>\n",
       "      <td>False</td>\n",
       "      <td>True</td>\n",
       "    </tr>\n",
       "    <tr>\n",
       "      <th>3</th>\n",
       "      <td>64.0</td>\n",
       "      <td>False</td>\n",
       "      <td>True</td>\n",
       "      <td>False</td>\n",
       "      <td>True</td>\n",
       "    </tr>\n",
       "    <tr>\n",
       "      <th>4</th>\n",
       "      <td>50.0</td>\n",
       "      <td>False</td>\n",
       "      <td>True</td>\n",
       "      <td>False</td>\n",
       "      <td>True</td>\n",
       "    </tr>\n",
       "    <tr>\n",
       "      <th>5</th>\n",
       "      <td>22.0</td>\n",
       "      <td>False</td>\n",
       "      <td>True</td>\n",
       "      <td>True</td>\n",
       "      <td>False</td>\n",
       "    </tr>\n",
       "    <tr>\n",
       "      <th>6</th>\n",
       "      <td>17.0</td>\n",
       "      <td>False</td>\n",
       "      <td>True</td>\n",
       "      <td>True</td>\n",
       "      <td>False</td>\n",
       "    </tr>\n",
       "    <tr>\n",
       "      <th>8</th>\n",
       "      <td>19.0</td>\n",
       "      <td>True</td>\n",
       "      <td>False</td>\n",
       "      <td>False</td>\n",
       "      <td>True</td>\n",
       "    </tr>\n",
       "  </tbody>\n",
       "</table>\n",
       "</div>"
      ],
      "text/plain": [
       "   col1  col3_0  col3_1  col4_0  col4_1\n",
       "0  51.0   False    True   False    True\n",
       "1  22.0   False    True    True   False\n",
       "2  13.0   False    True   False    True\n",
       "3  64.0   False    True   False    True\n",
       "4  50.0   False    True   False    True\n",
       "5  22.0   False    True    True   False\n",
       "6  17.0   False    True    True   False\n",
       "8  19.0    True   False   False    True"
      ]
     },
     "execution_count": 326,
     "metadata": {},
     "output_type": "execute_result"
    }
   ],
   "source": [
    "data = pd.get_dummies(data, columns=cat_cols, prefix=cat_cols)\n",
    "\n",
    "data"
   ]
  },
  {
   "cell_type": "markdown",
   "metadata": {},
   "source": [
    "<a id='imbal'></a>\n",
    "### Imbalanced Class Handling"
   ]
  },
  {
   "cell_type": "code",
   "execution_count": 327,
   "metadata": {
    "scrolled": true
   },
   "outputs": [],
   "source": [
    "# !pip install -U imbalanced-learn"
   ]
  },
  {
   "cell_type": "markdown",
   "metadata": {},
   "source": [
    "#### Toy dataset"
   ]
  },
  {
   "cell_type": "code",
   "execution_count": 351,
   "metadata": {},
   "outputs": [
    {
     "data": {
      "text/plain": [
       "{'data': array([[5.1, 3.5, 1.4, 0.2],\n",
       "        [4.9, 3. , 1.4, 0.2],\n",
       "        [4.7, 3.2, 1.3, 0.2],\n",
       "        [4.6, 3.1, 1.5, 0.2],\n",
       "        [5. , 3.6, 1.4, 0.2],\n",
       "        [5.4, 3.9, 1.7, 0.4],\n",
       "        [4.6, 3.4, 1.4, 0.3],\n",
       "        [5. , 3.4, 1.5, 0.2],\n",
       "        [4.4, 2.9, 1.4, 0.2],\n",
       "        [4.9, 3.1, 1.5, 0.1],\n",
       "        [5.4, 3.7, 1.5, 0.2],\n",
       "        [4.8, 3.4, 1.6, 0.2],\n",
       "        [4.8, 3. , 1.4, 0.1],\n",
       "        [4.3, 3. , 1.1, 0.1],\n",
       "        [5.8, 4. , 1.2, 0.2],\n",
       "        [5.7, 4.4, 1.5, 0.4],\n",
       "        [5.4, 3.9, 1.3, 0.4],\n",
       "        [5.1, 3.5, 1.4, 0.3],\n",
       "        [5.7, 3.8, 1.7, 0.3],\n",
       "        [5.1, 3.8, 1.5, 0.3],\n",
       "        [5.4, 3.4, 1.7, 0.2],\n",
       "        [5.1, 3.7, 1.5, 0.4],\n",
       "        [4.6, 3.6, 1. , 0.2],\n",
       "        [5.1, 3.3, 1.7, 0.5],\n",
       "        [4.8, 3.4, 1.9, 0.2],\n",
       "        [5. , 3. , 1.6, 0.2],\n",
       "        [5. , 3.4, 1.6, 0.4],\n",
       "        [5.2, 3.5, 1.5, 0.2],\n",
       "        [5.2, 3.4, 1.4, 0.2],\n",
       "        [4.7, 3.2, 1.6, 0.2],\n",
       "        [4.8, 3.1, 1.6, 0.2],\n",
       "        [5.4, 3.4, 1.5, 0.4],\n",
       "        [5.2, 4.1, 1.5, 0.1],\n",
       "        [5.5, 4.2, 1.4, 0.2],\n",
       "        [4.9, 3.1, 1.5, 0.2],\n",
       "        [5. , 3.2, 1.2, 0.2],\n",
       "        [5.5, 3.5, 1.3, 0.2],\n",
       "        [4.9, 3.6, 1.4, 0.1],\n",
       "        [4.4, 3. , 1.3, 0.2],\n",
       "        [5.1, 3.4, 1.5, 0.2],\n",
       "        [5. , 3.5, 1.3, 0.3],\n",
       "        [4.5, 2.3, 1.3, 0.3],\n",
       "        [4.4, 3.2, 1.3, 0.2],\n",
       "        [5. , 3.5, 1.6, 0.6],\n",
       "        [5.1, 3.8, 1.9, 0.4],\n",
       "        [4.8, 3. , 1.4, 0.3],\n",
       "        [5.1, 3.8, 1.6, 0.2],\n",
       "        [4.6, 3.2, 1.4, 0.2],\n",
       "        [5.3, 3.7, 1.5, 0.2],\n",
       "        [5. , 3.3, 1.4, 0.2],\n",
       "        [7. , 3.2, 4.7, 1.4],\n",
       "        [6.4, 3.2, 4.5, 1.5],\n",
       "        [6.9, 3.1, 4.9, 1.5],\n",
       "        [5.5, 2.3, 4. , 1.3],\n",
       "        [6.5, 2.8, 4.6, 1.5],\n",
       "        [5.7, 2.8, 4.5, 1.3],\n",
       "        [6.3, 3.3, 4.7, 1.6],\n",
       "        [4.9, 2.4, 3.3, 1. ],\n",
       "        [6.6, 2.9, 4.6, 1.3],\n",
       "        [5.2, 2.7, 3.9, 1.4],\n",
       "        [5. , 2. , 3.5, 1. ],\n",
       "        [5.9, 3. , 4.2, 1.5],\n",
       "        [6. , 2.2, 4. , 1. ],\n",
       "        [6.1, 2.9, 4.7, 1.4],\n",
       "        [5.6, 2.9, 3.6, 1.3],\n",
       "        [6.7, 3.1, 4.4, 1.4],\n",
       "        [5.6, 3. , 4.5, 1.5],\n",
       "        [5.8, 2.7, 4.1, 1. ],\n",
       "        [6.2, 2.2, 4.5, 1.5],\n",
       "        [5.6, 2.5, 3.9, 1.1],\n",
       "        [5.9, 3.2, 4.8, 1.8],\n",
       "        [6.1, 2.8, 4. , 1.3],\n",
       "        [6.3, 2.5, 4.9, 1.5],\n",
       "        [6.1, 2.8, 4.7, 1.2],\n",
       "        [6.4, 2.9, 4.3, 1.3],\n",
       "        [6.6, 3. , 4.4, 1.4],\n",
       "        [6.8, 2.8, 4.8, 1.4],\n",
       "        [6.7, 3. , 5. , 1.7],\n",
       "        [6. , 2.9, 4.5, 1.5],\n",
       "        [5.7, 2.6, 3.5, 1. ],\n",
       "        [5.5, 2.4, 3.8, 1.1],\n",
       "        [5.5, 2.4, 3.7, 1. ],\n",
       "        [5.8, 2.7, 3.9, 1.2],\n",
       "        [6. , 2.7, 5.1, 1.6],\n",
       "        [5.4, 3. , 4.5, 1.5],\n",
       "        [6. , 3.4, 4.5, 1.6],\n",
       "        [6.7, 3.1, 4.7, 1.5],\n",
       "        [6.3, 2.3, 4.4, 1.3],\n",
       "        [5.6, 3. , 4.1, 1.3],\n",
       "        [5.5, 2.5, 4. , 1.3],\n",
       "        [5.5, 2.6, 4.4, 1.2],\n",
       "        [6.1, 3. , 4.6, 1.4],\n",
       "        [5.8, 2.6, 4. , 1.2],\n",
       "        [5. , 2.3, 3.3, 1. ],\n",
       "        [5.6, 2.7, 4.2, 1.3],\n",
       "        [5.7, 3. , 4.2, 1.2],\n",
       "        [5.7, 2.9, 4.2, 1.3],\n",
       "        [6.2, 2.9, 4.3, 1.3],\n",
       "        [5.1, 2.5, 3. , 1.1],\n",
       "        [5.7, 2.8, 4.1, 1.3],\n",
       "        [6.3, 3.3, 6. , 2.5],\n",
       "        [5.8, 2.7, 5.1, 1.9],\n",
       "        [7.1, 3. , 5.9, 2.1],\n",
       "        [6.3, 2.9, 5.6, 1.8],\n",
       "        [6.5, 3. , 5.8, 2.2],\n",
       "        [7.6, 3. , 6.6, 2.1],\n",
       "        [4.9, 2.5, 4.5, 1.7],\n",
       "        [7.3, 2.9, 6.3, 1.8],\n",
       "        [6.7, 2.5, 5.8, 1.8],\n",
       "        [7.2, 3.6, 6.1, 2.5],\n",
       "        [6.5, 3.2, 5.1, 2. ],\n",
       "        [6.4, 2.7, 5.3, 1.9],\n",
       "        [6.8, 3. , 5.5, 2.1],\n",
       "        [5.7, 2.5, 5. , 2. ],\n",
       "        [5.8, 2.8, 5.1, 2.4],\n",
       "        [6.4, 3.2, 5.3, 2.3],\n",
       "        [6.5, 3. , 5.5, 1.8],\n",
       "        [7.7, 3.8, 6.7, 2.2],\n",
       "        [7.7, 2.6, 6.9, 2.3],\n",
       "        [6. , 2.2, 5. , 1.5],\n",
       "        [6.9, 3.2, 5.7, 2.3],\n",
       "        [5.6, 2.8, 4.9, 2. ],\n",
       "        [7.7, 2.8, 6.7, 2. ],\n",
       "        [6.3, 2.7, 4.9, 1.8],\n",
       "        [6.7, 3.3, 5.7, 2.1],\n",
       "        [7.2, 3.2, 6. , 1.8],\n",
       "        [6.2, 2.8, 4.8, 1.8],\n",
       "        [6.1, 3. , 4.9, 1.8],\n",
       "        [6.4, 2.8, 5.6, 2.1],\n",
       "        [7.2, 3. , 5.8, 1.6],\n",
       "        [7.4, 2.8, 6.1, 1.9],\n",
       "        [7.9, 3.8, 6.4, 2. ],\n",
       "        [6.4, 2.8, 5.6, 2.2],\n",
       "        [6.3, 2.8, 5.1, 1.5],\n",
       "        [6.1, 2.6, 5.6, 1.4],\n",
       "        [7.7, 3. , 6.1, 2.3],\n",
       "        [6.3, 3.4, 5.6, 2.4],\n",
       "        [6.4, 3.1, 5.5, 1.8],\n",
       "        [6. , 3. , 4.8, 1.8],\n",
       "        [6.9, 3.1, 5.4, 2.1],\n",
       "        [6.7, 3.1, 5.6, 2.4],\n",
       "        [6.9, 3.1, 5.1, 2.3],\n",
       "        [5.8, 2.7, 5.1, 1.9],\n",
       "        [6.8, 3.2, 5.9, 2.3],\n",
       "        [6.7, 3.3, 5.7, 2.5],\n",
       "        [6.7, 3. , 5.2, 2.3],\n",
       "        [6.3, 2.5, 5. , 1.9],\n",
       "        [6.5, 3. , 5.2, 2. ],\n",
       "        [6.2, 3.4, 5.4, 2.3],\n",
       "        [5.9, 3. , 5.1, 1.8]]),\n",
       " 'target': array([0, 0, 0, 0, 0, 0, 0, 0, 0, 0, 0, 0, 0, 0, 0, 0, 0, 0, 0, 0, 0, 0,\n",
       "        0, 0, 0, 0, 0, 0, 0, 0, 0, 0, 0, 0, 0, 0, 0, 0, 0, 0, 0, 0, 0, 0,\n",
       "        0, 0, 0, 0, 0, 0, 1, 1, 1, 1, 1, 1, 1, 1, 1, 1, 1, 1, 1, 1, 1, 1,\n",
       "        1, 1, 1, 1, 1, 1, 1, 1, 1, 1, 1, 1, 1, 1, 1, 1, 1, 1, 1, 1, 1, 1,\n",
       "        1, 1, 1, 1, 1, 1, 1, 1, 1, 1, 1, 1, 2, 2, 2, 2, 2, 2, 2, 2, 2, 2,\n",
       "        2, 2, 2, 2, 2, 2, 2, 2, 2, 2, 2, 2, 2, 2, 2, 2, 2, 2, 2, 2, 2, 2,\n",
       "        2, 2, 2, 2, 2, 2, 2, 2, 2, 2, 2, 2, 2, 2, 2, 2, 2, 2]),\n",
       " 'frame': None,\n",
       " 'target_names': array(['setosa', 'versicolor', 'virginica'], dtype='<U10'),\n",
       " 'DESCR': '.. _iris_dataset:\\n\\nIris plants dataset\\n--------------------\\n\\n**Data Set Characteristics:**\\n\\n:Number of Instances: 150 (50 in each of three classes)\\n:Number of Attributes: 4 numeric, predictive attributes and the class\\n:Attribute Information:\\n    - sepal length in cm\\n    - sepal width in cm\\n    - petal length in cm\\n    - petal width in cm\\n    - class:\\n            - Iris-Setosa\\n            - Iris-Versicolour\\n            - Iris-Virginica\\n\\n:Summary Statistics:\\n\\n============== ==== ==== ======= ===== ====================\\n                Min  Max   Mean    SD   Class Correlation\\n============== ==== ==== ======= ===== ====================\\nsepal length:   4.3  7.9   5.84   0.83    0.7826\\nsepal width:    2.0  4.4   3.05   0.43   -0.4194\\npetal length:   1.0  6.9   3.76   1.76    0.9490  (high!)\\npetal width:    0.1  2.5   1.20   0.76    0.9565  (high!)\\n============== ==== ==== ======= ===== ====================\\n\\n:Missing Attribute Values: None\\n:Class Distribution: 33.3% for each of 3 classes.\\n:Creator: R.A. Fisher\\n:Donor: Michael Marshall (MARSHALL%PLU@io.arc.nasa.gov)\\n:Date: July, 1988\\n\\nThe famous Iris database, first used by Sir R.A. Fisher. The dataset is taken\\nfrom Fisher\\'s paper. Note that it\\'s the same as in R, but not as in the UCI\\nMachine Learning Repository, which has two wrong data points.\\n\\nThis is perhaps the best known database to be found in the\\npattern recognition literature.  Fisher\\'s paper is a classic in the field and\\nis referenced frequently to this day.  (See Duda & Hart, for example.)  The\\ndata set contains 3 classes of 50 instances each, where each class refers to a\\ntype of iris plant.  One class is linearly separable from the other 2; the\\nlatter are NOT linearly separable from each other.\\n\\n.. dropdown:: References\\n\\n  - Fisher, R.A. \"The use of multiple measurements in taxonomic problems\"\\n    Annual Eugenics, 7, Part II, 179-188 (1936); also in \"Contributions to\\n    Mathematical Statistics\" (John Wiley, NY, 1950).\\n  - Duda, R.O., & Hart, P.E. (1973) Pattern Classification and Scene Analysis.\\n    (Q327.D83) John Wiley & Sons.  ISBN 0-471-22361-1.  See page 218.\\n  - Dasarathy, B.V. (1980) \"Nosing Around the Neighborhood: A New System\\n    Structure and Classification Rule for Recognition in Partially Exposed\\n    Environments\".  IEEE Transactions on Pattern Analysis and Machine\\n    Intelligence, Vol. PAMI-2, No. 1, 67-71.\\n  - Gates, G.W. (1972) \"The Reduced Nearest Neighbor Rule\".  IEEE Transactions\\n    on Information Theory, May 1972, 431-433.\\n  - See also: 1988 MLC Proceedings, 54-64.  Cheeseman et al\"s AUTOCLASS II\\n    conceptual clustering system finds 3 classes in the data.\\n  - Many, many more ...\\n',\n",
       " 'feature_names': ['sepal length (cm)',\n",
       "  'sepal width (cm)',\n",
       "  'petal length (cm)',\n",
       "  'petal width (cm)'],\n",
       " 'filename': 'iris.csv',\n",
       " 'data_module': 'sklearn.datasets.data'}"
      ]
     },
     "execution_count": 351,
     "metadata": {},
     "output_type": "execute_result"
    }
   ],
   "source": [
    "from imblearn.datasets import make_imbalance\n",
    "from sklearn.datasets import load_iris\n",
    "\n",
    "data = load_iris()\n",
    "data"
   ]
  },
  {
   "cell_type": "code",
   "execution_count": 352,
   "metadata": {},
   "outputs": [
    {
     "data": {
      "text/plain": [
       "array([0, 0, 0, 0, 0, 0, 0, 0, 0, 0, 0, 0, 0, 0, 0, 0, 0, 0, 0, 0, 0, 0,\n",
       "       0, 0, 0, 0, 0, 0, 0, 0, 0, 0, 0, 0, 0, 0, 0, 0, 0, 0, 0, 0, 0, 0,\n",
       "       0, 0, 0, 0, 0, 0, 1, 1, 1, 1, 1, 1, 1, 1, 1, 1, 1, 1, 1, 1, 1, 1,\n",
       "       1, 1, 1, 1, 1, 1, 1, 1, 1, 1, 1, 1, 1, 1, 1, 1, 1, 1, 1, 1, 1, 1,\n",
       "       1, 1, 1, 1, 1, 1, 1, 1, 1, 1, 1, 1, 2, 2, 2, 2, 2, 2, 2, 2, 2, 2,\n",
       "       2, 2, 2, 2, 2, 2, 2, 2, 2, 2, 2, 2, 2, 2, 2, 2, 2, 2, 2, 2, 2, 2,\n",
       "       2, 2, 2, 2, 2, 2, 2, 2, 2, 2, 2, 2, 2, 2, 2, 2, 2, 2])"
      ]
     },
     "execution_count": 352,
     "metadata": {},
     "output_type": "execute_result"
    }
   ],
   "source": [
    "data.target"
   ]
  },
  {
   "cell_type": "code",
   "execution_count": 357,
   "metadata": {
    "scrolled": false
   },
   "outputs": [
    {
     "name": "stdout",
     "output_type": "stream",
     "text": [
      "Data shape: (60,)\n"
     ]
    },
    {
     "data": {
      "image/png": "[encoded data removed]",
      "text/plain": [
       "<Figure size 640x480 with 1 Axes>"
      ]
     },
     "metadata": {},
     "output_type": "display_data"
    }
   ],
   "source": [
    "# Importing the required libraries\n",
    "from imblearn.datasets import make_imbalance        # Used to artificially create class imbalance in datasets\n",
    "from sklearn.datasets import load_iris              # Loads the built-in Iris dataset from Scikit-learn                              # For data handling and visualization\n",
    "\n",
    "# Load the Iris dataset\n",
    "data = load_iris()\n",
    "\n",
    "# Separate the features (X) and target labels (y)\n",
    "X, y = data.data, data.target\n",
    "\n",
    "# Create an imbalanced version of the dataset\n",
    "# sampling_strategy defines how many samples each class should have:\n",
    "# class 0 → 10 samples, class 1 → 20 samples, class 2 → 30 samples\n",
    "# random_state ensures reproducibility (same random result every time)\n",
    "X, y = make_imbalance(X, y, sampling_strategy={0: 10, 1: 20, 2: 30}, random_state=42)\n",
    "\n",
    "# Print the shape of the target array to confirm total number of samples\n",
    "print(\"Data shape:\", y.shape)\n",
    "\n",
    "# Display the class distribution as a bar chart\n",
    "# pd.Series(y).value_counts() counts how many samples are in each class\n",
    "# .plot.bar() creates a bar plot to visualize the imbalance\n",
    "pd.Series(y).value_counts().plot.bar();\n"
   ]
  },
  {
   "cell_type": "markdown",
   "metadata": {},
   "source": [
    "#### Oversampling: SMOTE"
   ]
  },
  {
   "cell_type": "code",
   "execution_count": 359,
   "metadata": {
    "scrolled": true
   },
   "outputs": [
    {
     "name": "stdout",
     "output_type": "stream",
     "text": [
      "Data shape: (90,)\n"
     ]
    },
    {
     "data": {
      "image/png": "[encoded data removed]",
      "text/plain": [
       "<Figure size 640x480 with 1 Axes>"
      ]
     },
     "metadata": {},
     "output_type": "display_data"
    }
   ],
   "source": [
    "# Import the SMOTE (Synthetic Minority Oversampling Technique) class\n",
    "# SMOTE is used to balance class distribution by generating synthetic samples \n",
    "# for minority classes rather than duplicating existing ones.\n",
    "from imblearn.over_sampling import SMOTE\n",
    "\n",
    "# Create a SMOTE object with a fixed random_state for reproducibility\n",
    "sm = SMOTE(random_state=42)\n",
    "\n",
    "# Apply SMOTE to the imbalanced dataset (X, y)\n",
    "# fit_resample() fits the SMOTE model on the data and returns a new, balanced dataset.\n",
    "# It creates synthetic feature samples (X_smt) and corresponding target labels (y_smt).\n",
    "X_smt, y_smt = sm.fit_resample(X, y)\n",
    "\n",
    "# Print the shape of the resampled target array to confirm the new data size\n",
    "print(\"Data shape:\", y_smt.shape)\n",
    "\n",
    "# Visualize the balanced class distribution using a bar chart\n",
    "# pd.Series(y_smt).value_counts() counts how many samples each class now has\n",
    "# .plot.bar() displays the counts in bar chart form\n",
    "pd.Series(y_smt).value_counts().plot.bar();\n"
   ]
  },
  {
   "cell_type": "markdown",
   "metadata": {},
   "source": [
    "#### Undersampling"
   ]
  },
  {
   "cell_type": "code",
   "execution_count": 363,
   "metadata": {
    "scrolled": true
   },
   "outputs": [
    {
     "name": "stdout",
     "output_type": "stream",
     "text": [
      "Data shape: (30,)\n"
     ]
    },
    {
     "data": {
      "image/png": "[encoded data removed]",
      "text/plain": [
       "<Figure size 640x480 with 1 Axes>"
      ]
     },
     "metadata": {},
     "output_type": "display_data"
    }
   ],
   "source": [
    "# Import the RandomUnderSampler class from imbalanced-learn\n",
    "# This technique balances the dataset by randomly removing samples \n",
    "# from the majority classes until all classes have equal representation.\n",
    "from imblearn.under_sampling import RandomUnderSampler\n",
    "\n",
    "# Create a RandomUnderSampler object with a fixed random_state for reproducibility\n",
    "rus = RandomUnderSampler(random_state=42)\n",
    "\n",
    "# Apply under-sampling to the dataset (X, y)\n",
    "# fit_resample() fits the sampler and returns a new, reduced dataset\n",
    "# where each class now has the same number of samples as the smallest class.\n",
    "X_rus, y_rus = rus.fit_resample(X, y)\n",
    "\n",
    "# Print the shape of the resampled target array to confirm the reduced data size\n",
    "print(\"Data shape:\", y_rus.shape)\n",
    "\n",
    "# Visualize the new class distribution using a bar chart\n",
    "# pd.Series(y_rus).value_counts() counts the number of samples in each class\n",
    "# .plot.bar() plots the counts to show the balanced distribution after under-sampling\n",
    "pd.Series(y_rus).value_counts().plot.bar();\n"
   ]
  },
  {
   "cell_type": "code",
   "execution_count": 364,
   "metadata": {},
   "outputs": [
    {
     "data": {
      "text/plain": [
       "{'data': array([[5.1, 3.5, 1.4, 0.2],\n",
       "        [4.9, 3. , 1.4, 0.2],\n",
       "        [4.7, 3.2, 1.3, 0.2],\n",
       "        [4.6, 3.1, 1.5, 0.2],\n",
       "        [5. , 3.6, 1.4, 0.2],\n",
       "        [5.4, 3.9, 1.7, 0.4],\n",
       "        [4.6, 3.4, 1.4, 0.3],\n",
       "        [5. , 3.4, 1.5, 0.2],\n",
       "        [4.4, 2.9, 1.4, 0.2],\n",
       "        [4.9, 3.1, 1.5, 0.1],\n",
       "        [5.4, 3.7, 1.5, 0.2],\n",
       "        [4.8, 3.4, 1.6, 0.2],\n",
       "        [4.8, 3. , 1.4, 0.1],\n",
       "        [4.3, 3. , 1.1, 0.1],\n",
       "        [5.8, 4. , 1.2, 0.2],\n",
       "        [5.7, 4.4, 1.5, 0.4],\n",
       "        [5.4, 3.9, 1.3, 0.4],\n",
       "        [5.1, 3.5, 1.4, 0.3],\n",
       "        [5.7, 3.8, 1.7, 0.3],\n",
       "        [5.1, 3.8, 1.5, 0.3],\n",
       "        [5.4, 3.4, 1.7, 0.2],\n",
       "        [5.1, 3.7, 1.5, 0.4],\n",
       "        [4.6, 3.6, 1. , 0.2],\n",
       "        [5.1, 3.3, 1.7, 0.5],\n",
       "        [4.8, 3.4, 1.9, 0.2],\n",
       "        [5. , 3. , 1.6, 0.2],\n",
       "        [5. , 3.4, 1.6, 0.4],\n",
       "        [5.2, 3.5, 1.5, 0.2],\n",
       "        [5.2, 3.4, 1.4, 0.2],\n",
       "        [4.7, 3.2, 1.6, 0.2],\n",
       "        [4.8, 3.1, 1.6, 0.2],\n",
       "        [5.4, 3.4, 1.5, 0.4],\n",
       "        [5.2, 4.1, 1.5, 0.1],\n",
       "        [5.5, 4.2, 1.4, 0.2],\n",
       "        [4.9, 3.1, 1.5, 0.2],\n",
       "        [5. , 3.2, 1.2, 0.2],\n",
       "        [5.5, 3.5, 1.3, 0.2],\n",
       "        [4.9, 3.6, 1.4, 0.1],\n",
       "        [4.4, 3. , 1.3, 0.2],\n",
       "        [5.1, 3.4, 1.5, 0.2],\n",
       "        [5. , 3.5, 1.3, 0.3],\n",
       "        [4.5, 2.3, 1.3, 0.3],\n",
       "        [4.4, 3.2, 1.3, 0.2],\n",
       "        [5. , 3.5, 1.6, 0.6],\n",
       "        [5.1, 3.8, 1.9, 0.4],\n",
       "        [4.8, 3. , 1.4, 0.3],\n",
       "        [5.1, 3.8, 1.6, 0.2],\n",
       "        [4.6, 3.2, 1.4, 0.2],\n",
       "        [5.3, 3.7, 1.5, 0.2],\n",
       "        [5. , 3.3, 1.4, 0.2],\n",
       "        [7. , 3.2, 4.7, 1.4],\n",
       "        [6.4, 3.2, 4.5, 1.5],\n",
       "        [6.9, 3.1, 4.9, 1.5],\n",
       "        [5.5, 2.3, 4. , 1.3],\n",
       "        [6.5, 2.8, 4.6, 1.5],\n",
       "        [5.7, 2.8, 4.5, 1.3],\n",
       "        [6.3, 3.3, 4.7, 1.6],\n",
       "        [4.9, 2.4, 3.3, 1. ],\n",
       "        [6.6, 2.9, 4.6, 1.3],\n",
       "        [5.2, 2.7, 3.9, 1.4],\n",
       "        [5. , 2. , 3.5, 1. ],\n",
       "        [5.9, 3. , 4.2, 1.5],\n",
       "        [6. , 2.2, 4. , 1. ],\n",
       "        [6.1, 2.9, 4.7, 1.4],\n",
       "        [5.6, 2.9, 3.6, 1.3],\n",
       "        [6.7, 3.1, 4.4, 1.4],\n",
       "        [5.6, 3. , 4.5, 1.5],\n",
       "        [5.8, 2.7, 4.1, 1. ],\n",
       "        [6.2, 2.2, 4.5, 1.5],\n",
       "        [5.6, 2.5, 3.9, 1.1],\n",
       "        [5.9, 3.2, 4.8, 1.8],\n",
       "        [6.1, 2.8, 4. , 1.3],\n",
       "        [6.3, 2.5, 4.9, 1.5],\n",
       "        [6.1, 2.8, 4.7, 1.2],\n",
       "        [6.4, 2.9, 4.3, 1.3],\n",
       "        [6.6, 3. , 4.4, 1.4],\n",
       "        [6.8, 2.8, 4.8, 1.4],\n",
       "        [6.7, 3. , 5. , 1.7],\n",
       "        [6. , 2.9, 4.5, 1.5],\n",
       "        [5.7, 2.6, 3.5, 1. ],\n",
       "        [5.5, 2.4, 3.8, 1.1],\n",
       "        [5.5, 2.4, 3.7, 1. ],\n",
       "        [5.8, 2.7, 3.9, 1.2],\n",
       "        [6. , 2.7, 5.1, 1.6],\n",
       "        [5.4, 3. , 4.5, 1.5],\n",
       "        [6. , 3.4, 4.5, 1.6],\n",
       "        [6.7, 3.1, 4.7, 1.5],\n",
       "        [6.3, 2.3, 4.4, 1.3],\n",
       "        [5.6, 3. , 4.1, 1.3],\n",
       "        [5.5, 2.5, 4. , 1.3],\n",
       "        [5.5, 2.6, 4.4, 1.2],\n",
       "        [6.1, 3. , 4.6, 1.4],\n",
       "        [5.8, 2.6, 4. , 1.2],\n",
       "        [5. , 2.3, 3.3, 1. ],\n",
       "        [5.6, 2.7, 4.2, 1.3],\n",
       "        [5.7, 3. , 4.2, 1.2],\n",
       "        [5.7, 2.9, 4.2, 1.3],\n",
       "        [6.2, 2.9, 4.3, 1.3],\n",
       "        [5.1, 2.5, 3. , 1.1],\n",
       "        [5.7, 2.8, 4.1, 1.3],\n",
       "        [6.3, 3.3, 6. , 2.5],\n",
       "        [5.8, 2.7, 5.1, 1.9],\n",
       "        [7.1, 3. , 5.9, 2.1],\n",
       "        [6.3, 2.9, 5.6, 1.8],\n",
       "        [6.5, 3. , 5.8, 2.2],\n",
       "        [7.6, 3. , 6.6, 2.1],\n",
       "        [4.9, 2.5, 4.5, 1.7],\n",
       "        [7.3, 2.9, 6.3, 1.8],\n",
       "        [6.7, 2.5, 5.8, 1.8],\n",
       "        [7.2, 3.6, 6.1, 2.5],\n",
       "        [6.5, 3.2, 5.1, 2. ],\n",
       "        [6.4, 2.7, 5.3, 1.9],\n",
       "        [6.8, 3. , 5.5, 2.1],\n",
       "        [5.7, 2.5, 5. , 2. ],\n",
       "        [5.8, 2.8, 5.1, 2.4],\n",
       "        [6.4, 3.2, 5.3, 2.3],\n",
       "        [6.5, 3. , 5.5, 1.8],\n",
       "        [7.7, 3.8, 6.7, 2.2],\n",
       "        [7.7, 2.6, 6.9, 2.3],\n",
       "        [6. , 2.2, 5. , 1.5],\n",
       "        [6.9, 3.2, 5.7, 2.3],\n",
       "        [5.6, 2.8, 4.9, 2. ],\n",
       "        [7.7, 2.8, 6.7, 2. ],\n",
       "        [6.3, 2.7, 4.9, 1.8],\n",
       "        [6.7, 3.3, 5.7, 2.1],\n",
       "        [7.2, 3.2, 6. , 1.8],\n",
       "        [6.2, 2.8, 4.8, 1.8],\n",
       "        [6.1, 3. , 4.9, 1.8],\n",
       "        [6.4, 2.8, 5.6, 2.1],\n",
       "        [7.2, 3. , 5.8, 1.6],\n",
       "        [7.4, 2.8, 6.1, 1.9],\n",
       "        [7.9, 3.8, 6.4, 2. ],\n",
       "        [6.4, 2.8, 5.6, 2.2],\n",
       "        [6.3, 2.8, 5.1, 1.5],\n",
       "        [6.1, 2.6, 5.6, 1.4],\n",
       "        [7.7, 3. , 6.1, 2.3],\n",
       "        [6.3, 3.4, 5.6, 2.4],\n",
       "        [6.4, 3.1, 5.5, 1.8],\n",
       "        [6. , 3. , 4.8, 1.8],\n",
       "        [6.9, 3.1, 5.4, 2.1],\n",
       "        [6.7, 3.1, 5.6, 2.4],\n",
       "        [6.9, 3.1, 5.1, 2.3],\n",
       "        [5.8, 2.7, 5.1, 1.9],\n",
       "        [6.8, 3.2, 5.9, 2.3],\n",
       "        [6.7, 3.3, 5.7, 2.5],\n",
       "        [6.7, 3. , 5.2, 2.3],\n",
       "        [6.3, 2.5, 5. , 1.9],\n",
       "        [6.5, 3. , 5.2, 2. ],\n",
       "        [6.2, 3.4, 5.4, 2.3],\n",
       "        [5.9, 3. , 5.1, 1.8]]),\n",
       " 'target': array([0, 0, 0, 0, 0, 0, 0, 0, 0, 0, 0, 0, 0, 0, 0, 0, 0, 0, 0, 0, 0, 0,\n",
       "        0, 0, 0, 0, 0, 0, 0, 0, 0, 0, 0, 0, 0, 0, 0, 0, 0, 0, 0, 0, 0, 0,\n",
       "        0, 0, 0, 0, 0, 0, 1, 1, 1, 1, 1, 1, 1, 1, 1, 1, 1, 1, 1, 1, 1, 1,\n",
       "        1, 1, 1, 1, 1, 1, 1, 1, 1, 1, 1, 1, 1, 1, 1, 1, 1, 1, 1, 1, 1, 1,\n",
       "        1, 1, 1, 1, 1, 1, 1, 1, 1, 1, 1, 1, 2, 2, 2, 2, 2, 2, 2, 2, 2, 2,\n",
       "        2, 2, 2, 2, 2, 2, 2, 2, 2, 2, 2, 2, 2, 2, 2, 2, 2, 2, 2, 2, 2, 2,\n",
       "        2, 2, 2, 2, 2, 2, 2, 2, 2, 2, 2, 2, 2, 2, 2, 2, 2, 2]),\n",
       " 'frame': None,\n",
       " 'target_names': array(['setosa', 'versicolor', 'virginica'], dtype='<U10'),\n",
       " 'DESCR': '.. _iris_dataset:\\n\\nIris plants dataset\\n--------------------\\n\\n**Data Set Characteristics:**\\n\\n:Number of Instances: 150 (50 in each of three classes)\\n:Number of Attributes: 4 numeric, predictive attributes and the class\\n:Attribute Information:\\n    - sepal length in cm\\n    - sepal width in cm\\n    - petal length in cm\\n    - petal width in cm\\n    - class:\\n            - Iris-Setosa\\n            - Iris-Versicolour\\n            - Iris-Virginica\\n\\n:Summary Statistics:\\n\\n============== ==== ==== ======= ===== ====================\\n                Min  Max   Mean    SD   Class Correlation\\n============== ==== ==== ======= ===== ====================\\nsepal length:   4.3  7.9   5.84   0.83    0.7826\\nsepal width:    2.0  4.4   3.05   0.43   -0.4194\\npetal length:   1.0  6.9   3.76   1.76    0.9490  (high!)\\npetal width:    0.1  2.5   1.20   0.76    0.9565  (high!)\\n============== ==== ==== ======= ===== ====================\\n\\n:Missing Attribute Values: None\\n:Class Distribution: 33.3% for each of 3 classes.\\n:Creator: R.A. Fisher\\n:Donor: Michael Marshall (MARSHALL%PLU@io.arc.nasa.gov)\\n:Date: July, 1988\\n\\nThe famous Iris database, first used by Sir R.A. Fisher. The dataset is taken\\nfrom Fisher\\'s paper. Note that it\\'s the same as in R, but not as in the UCI\\nMachine Learning Repository, which has two wrong data points.\\n\\nThis is perhaps the best known database to be found in the\\npattern recognition literature.  Fisher\\'s paper is a classic in the field and\\nis referenced frequently to this day.  (See Duda & Hart, for example.)  The\\ndata set contains 3 classes of 50 instances each, where each class refers to a\\ntype of iris plant.  One class is linearly separable from the other 2; the\\nlatter are NOT linearly separable from each other.\\n\\n.. dropdown:: References\\n\\n  - Fisher, R.A. \"The use of multiple measurements in taxonomic problems\"\\n    Annual Eugenics, 7, Part II, 179-188 (1936); also in \"Contributions to\\n    Mathematical Statistics\" (John Wiley, NY, 1950).\\n  - Duda, R.O., & Hart, P.E. (1973) Pattern Classification and Scene Analysis.\\n    (Q327.D83) John Wiley & Sons.  ISBN 0-471-22361-1.  See page 218.\\n  - Dasarathy, B.V. (1980) \"Nosing Around the Neighborhood: A New System\\n    Structure and Classification Rule for Recognition in Partially Exposed\\n    Environments\".  IEEE Transactions on Pattern Analysis and Machine\\n    Intelligence, Vol. PAMI-2, No. 1, 67-71.\\n  - Gates, G.W. (1972) \"The Reduced Nearest Neighbor Rule\".  IEEE Transactions\\n    on Information Theory, May 1972, 431-433.\\n  - See also: 1988 MLC Proceedings, 54-64.  Cheeseman et al\"s AUTOCLASS II\\n    conceptual clustering system finds 3 classes in the data.\\n  - Many, many more ...\\n',\n",
       " 'feature_names': ['sepal length (cm)',\n",
       "  'sepal width (cm)',\n",
       "  'petal length (cm)',\n",
       "  'petal width (cm)'],\n",
       " 'filename': 'iris.csv',\n",
       " 'data_module': 'sklearn.datasets.data'}"
      ]
     },
     "execution_count": 364,
     "metadata": {},
     "output_type": "execute_result"
    }
   ],
   "source": [
    "data"
   ]
  },
  {
   "cell_type": "markdown",
   "metadata": {},
   "source": [
    "<a id='trans'></a>\n",
    "### Data Transformation"
   ]
  },
  {
   "cell_type": "markdown",
   "metadata": {},
   "source": [
    "Data Transformation is performed to standardize the range of features of data. Since, the range of values of data may vary widely, it becomes a necessary step in data preprocessing while using machine learning algorithms.\n",
    "\n",
    "There are 3 popular methods to transform data:\n",
    "* Scaling\n",
    "* Normalization\n",
    "* Standardization"
   ]
  },
  {
   "cell_type": "markdown",
   "metadata": {},
   "source": [
    "### Scaling\n",
    "\n",
    "In scaling, you transform the data such that the features are within a specific range e.g. [0, 1].\n",
    "\n",
    "${\\displaystyle x'={\\frac {x-{\\text{min}}(x)}{{\\text{max}}(x)-{\\text{min}}(x)}}}$\n",
    "\n",
    "where ${\\displaystyle x}$ is an original value, ${\\displaystyle x'}$ is the rescaled value. \n",
    "\n",
    "Scaling is important in the algorthms such as support vector machines (SVM) and k-nearest neighbors\n",
    "(KNN) where distance betYouen the data points is important. For example, in the dataset containing\n",
    "prices of products; without scaling, SVM might treat 1 USD equivalent to 1 INR though 1 USD = 65\n",
    "INR."
   ]
  },
  {
   "cell_type": "code",
   "execution_count": 372,
   "metadata": {
    "scrolled": true
   },
   "outputs": [],
   "source": [
    "import numpy as np\n",
    "import seaborn as sns\n",
    "import matplotlib.pyplot as plt\n",
    "from sklearn.preprocessing import minmax_scale\n",
    "\n",
    "# set seed for reproducibility\n",
    "np.random.seed(10)\n",
    "\n",
    "# generate 1000 data points randomly drawn from an exponential distr\n",
    "original_data = np.random.exponential(size = 1000)"
   ]
  },
  {
   "cell_type": "code",
   "execution_count": 373,
   "metadata": {},
   "outputs": [
    {
     "data": {
      "text/plain": [
       "array([1.47543445e+00, 2.09702971e-02, 1.00416130e+00, 1.38152130e+00,\n",
       "       6.90165654e-01, 2.54629891e-01, 2.20725059e-01, 1.42933011e+00,\n",
       "       1.85258870e-01, 9.24879616e-02, 1.15632557e+00, 3.06601196e+00,\n",
       "       3.95608131e-03, 7.17833933e-01, 1.67462177e+00, 9.48106702e-01,\n",
       "       1.27925440e+00, 3.45136156e-01, 2.49828522e+00, 1.25377873e+00,\n",
       "       7.82075378e-01, 1.53349390e-01, 4.67352363e-01, 1.12126784e+00,\n",
       "       5.83097391e-01, 5.69185924e-01, 9.61724852e-01, 7.19775062e-01,\n",
       "       1.05095757e+00, 9.18891494e-01, 1.63590098e+00, 7.37406644e-01,\n",
       "       2.39304474e+00, 3.84539713e-01, 9.48155863e-02, 3.57675525e-01,\n",
       "       1.21020678e-01, 1.76422987e+00, 4.80315873e-02, 9.84267553e-01,\n",
       "       7.93157934e-01, 1.71084512e+00, 2.21828841e-01, 1.94386436e+00,\n",
       "       4.33328676e-01, 1.40506011e+00, 3.50922531e-01, 2.15361765e+00,\n",
       "       3.93800857e-01, 1.80342593e-01, 4.98451243e-01, 9.81205372e-02,\n",
       "       1.72095991e+00, 1.63875166e-01, 4.84694126e-01, 2.88707003e+00,\n",
       "       4.39211535e+00, 6.09366018e-01, 1.74940623e+00, 2.89515932e-01,\n",
       "       9.09741347e-01, 2.33131137e+00, 7.64767677e-01, 8.92089369e-01,\n",
       "       4.00741151e-02, 4.41893268e-01, 8.29611432e-02, 3.64505405e-01,\n",
       "       4.01551743e-01, 1.48646966e+00, 4.07795045e-02, 5.61228400e-01,\n",
       "       3.78229690e-01, 1.01195162e+00, 4.25178879e-01, 4.40536233e-02,\n",
       "       2.11955691e+00, 1.44071079e+00, 2.10452670e+00, 5.40441791e-01,\n",
       "       9.30332772e-01, 7.20449782e-01, 9.10896925e-01, 3.04103721e-01,\n",
       "       3.57920446e-01, 2.57279249e-02, 3.61059629e-01, 2.77171998e-01,\n",
       "       8.15491528e-01, 8.33575491e-01, 6.44608948e-01, 3.46438906e-01,\n",
       "       6.64080657e-02, 3.85465761e+00, 4.15072881e-01, 6.83293153e-01,\n",
       "       3.77577706e+00, 5.81201281e-01, 3.83125709e-01, 7.33546318e-01,\n",
       "       8.63073311e-01, 1.92369500e+00, 7.05268405e-02, 6.24611922e-01,\n",
       "       1.52302684e+00, 1.26798812e+00, 8.81942398e-01, 3.77999127e-02,\n",
       "       4.31793259e-01, 8.28258528e-01, 3.56289122e-01, 7.18124848e-01,\n",
       "       1.11922403e+00, 1.73394006e-01, 5.17962315e-02, 4.12211645e-01,\n",
       "       1.14360643e-01, 1.97113795e-01, 2.17004128e+00, 4.54705203e-01,\n",
       "       2.46884845e-01, 1.39632922e+00, 1.13033863e-01, 1.36493702e+00,\n",
       "       6.34473248e-01, 9.11939391e-01, 1.59723068e-01, 2.03383599e-01,\n",
       "       1.03584068e+00, 4.98501323e-02, 2.85833792e-01, 7.81778450e-01,\n",
       "       2.57183056e-01, 4.80315066e-01, 2.55403536e+00, 2.59503683e+00,\n",
       "       8.36440176e-01, 7.62434849e-01, 1.49715409e-02, 3.81214434e+00,\n",
       "       8.51038959e-01, 1.56904959e+00, 8.24526286e-01, 2.09830019e+00,\n",
       "       8.77540871e-01, 1.23391608e+00, 1.60795065e-01, 5.59404603e-01,\n",
       "       1.18381098e+00, 1.10506784e-01, 5.79113811e-01, 1.81764289e-01,\n",
       "       7.07202758e-01, 1.70945641e+00, 9.44279773e-02, 1.60978173e+00,\n",
       "       8.32699759e-01, 8.90008436e-01, 2.20772187e-01, 5.72910722e-01,\n",
       "       3.50840231e-01, 3.82811377e-02, 3.11654778e-02, 6.03498451e-01,\n",
       "       1.36595884e+00, 8.14852563e-01, 4.86317743e-01, 1.84010339e-01,\n",
       "       1.82177334e+00, 9.13923031e-01, 1.52654459e+00, 1.88723026e+00,\n",
       "       9.24229601e-01, 1.51896038e+00, 9.56427742e-01, 2.13923853e-02,\n",
       "       1.38815453e+00, 1.93635883e-01, 6.13438448e-01, 7.19743154e-01,\n",
       "       6.61688999e-01, 1.86037538e+00, 1.92146336e-01, 1.47430213e-02,\n",
       "       1.88891422e+00, 1.35741376e+00, 6.10089089e-01, 5.39393849e-01,\n",
       "       1.24123796e-01, 4.13516130e-01, 9.94436557e-02, 1.25818570e+00,\n",
       "       8.02185779e-02, 2.30609173e-01, 8.52790792e-01, 3.47901480e-01,\n",
       "       1.06631958e+00, 1.62744073e+00, 4.32651589e-01, 9.80984781e-02,\n",
       "       1.67833838e+00, 1.53649753e+00, 4.99917192e-01, 1.99863010e+00,\n",
       "       4.84558265e-01, 2.97466972e-01, 1.76844490e+00, 1.33325686e+00,\n",
       "       7.08465729e-01, 1.03374243e+00, 2.39764118e-01, 2.26056972e+00,\n",
       "       3.37981516e+00, 3.81262707e-01, 2.00658237e+00, 3.71474935e-01,\n",
       "       2.55885579e-02, 5.04464507e-02, 2.04109403e-01, 7.15318150e-02,\n",
       "       2.97699309e-01, 2.44855619e+00, 6.12211663e-01, 1.39505533e-01,\n",
       "       1.66016119e+00, 5.16625478e-01, 2.47360746e-02, 1.94372983e+00,\n",
       "       3.20611433e-01, 1.23479622e+00, 4.39703110e-01, 1.58138054e+00,\n",
       "       1.86187422e+00, 7.72509740e-01, 8.18906605e-01, 1.30689699e-01,\n",
       "       4.74239658e-01, 5.59923661e-01, 7.15819560e-01, 2.22342804e+00,\n",
       "       3.56975863e-01, 5.04912936e-01, 1.57635732e+00, 5.31497961e-01,\n",
       "       2.04404664e-01, 1.83412839e+00, 8.42277085e-01, 6.19288153e-02,\n",
       "       4.50234055e+00, 2.59784628e-01, 9.53737473e-01, 4.58908102e-01,\n",
       "       1.62341482e+00, 9.87684302e-01, 1.72157957e+00, 3.40032963e-01,\n",
       "       3.21301087e-01, 9.18923924e-01, 2.78894898e+00, 1.22859448e+00,\n",
       "       3.05714572e-01, 1.30491357e-01, 6.13826387e-01, 3.68140742e+00,\n",
       "       1.14123082e+00, 2.14746074e-01, 4.78667791e-02, 3.05006042e+00,\n",
       "       1.95650923e+00, 1.75969803e+00, 3.32147690e+00, 9.13635383e-01,\n",
       "       2.67242975e+00, 1.58724742e-01, 1.20993531e-01, 4.65261136e-01,\n",
       "       1.45483074e+00, 3.87343351e-01, 1.01620798e+00, 9.26387920e-03,\n",
       "       7.84089996e-01, 4.12119168e-01, 2.28302082e+00, 2.82526467e+00,\n",
       "       4.84706142e-01, 5.04376120e-01, 2.27574790e+00, 6.06233879e-02,\n",
       "       5.19831536e-01, 1.39463859e-01, 9.09858928e-02, 1.53231155e+00,\n",
       "       3.63229745e-01, 8.77204337e-01, 2.10756269e+00, 2.12688592e+00,\n",
       "       9.18679100e-01, 1.03627923e+00, 5.82948035e-02, 3.53087240e-01,\n",
       "       1.17692397e+00, 2.09523542e-01, 1.62458981e+00, 7.23119393e-01,\n",
       "       1.41587165e+00, 1.95757920e-01, 8.62338153e-02, 6.57918984e-01,\n",
       "       7.52586998e-01, 1.19174214e+00, 2.29113353e-01, 1.11282987e+00,\n",
       "       1.57633842e+00, 4.26338563e-02, 3.30654667e+00, 3.70471283e+00,\n",
       "       7.99977185e-01, 6.71092706e-02, 4.23481620e-01, 2.06415473e-02,\n",
       "       1.61370606e+00, 2.33101844e-01, 1.54612049e-01, 1.20361948e+00,\n",
       "       5.96967213e-02, 2.96531200e-01, 7.14027229e-01, 5.35146181e+00,\n",
       "       1.58428108e-01, 5.96955167e-01, 9.19898171e-01, 1.02334536e-01,\n",
       "       3.40710036e-01, 1.27582656e+00, 8.00300556e-01, 1.82372712e+00,\n",
       "       8.68289811e-01, 2.04041827e-01, 9.55816996e-01, 2.17997009e+00,\n",
       "       7.27302443e-01, 9.83883697e-01, 7.03316953e-01, 2.40420347e+00,\n",
       "       5.33249598e-01, 7.66726374e-01, 4.19528220e-01, 1.38775723e-01,\n",
       "       1.08714356e+00, 2.74372922e+00, 9.48631042e-01, 1.84984525e+00,\n",
       "       2.45783456e-01, 2.33481638e+00, 9.81801650e-03, 2.55941479e-01,\n",
       "       1.41627077e-01, 2.38101103e+00, 2.41051153e+00, 8.70022572e-01,\n",
       "       9.15595799e-02, 1.24293553e-01, 1.47434448e+00, 1.31974013e+00,\n",
       "       9.11599964e-02, 4.42331185e-01, 1.48373795e+00, 1.40954996e-01,\n",
       "       7.71827756e-01, 1.40536940e+00, 3.18177261e-01, 8.35902690e-01,\n",
       "       6.47571646e-01, 8.13329651e-01, 5.81135536e-01, 1.18331226e+00,\n",
       "       1.26668963e+00, 1.41215532e+00, 3.80363042e-02, 1.13580151e+00,\n",
       "       6.48596086e-01, 1.05550965e-01, 9.52426416e-01, 1.81963136e+00,\n",
       "       1.32386069e+00, 3.87967463e-01, 7.02672307e-02, 3.80448513e-02,\n",
       "       8.18994580e-01, 1.75369021e-01, 3.11822025e-01, 2.68810540e-01,\n",
       "       1.95370734e-02, 1.64504929e-01, 3.44905318e-02, 4.00825080e+00,\n",
       "       4.47045687e-01, 1.74562728e+00, 5.31432169e-01, 2.91929944e-01,\n",
       "       2.70118390e-01, 1.48331464e+00, 1.11247870e+00, 1.22530161e+00,\n",
       "       1.91838048e+00, 7.38248248e-01, 5.84776576e-01, 8.06872453e-01,\n",
       "       1.05553800e+00, 1.55378504e+00, 2.22812209e+00, 3.69767650e-01,\n",
       "       1.45730960e-01, 1.39000785e+00, 7.48307355e-01, 1.53590209e+00,\n",
       "       5.61989282e-01, 1.82539850e+00, 7.70793151e-01, 2.88247476e-01,\n",
       "       6.06995118e-02, 9.64550483e-02, 1.91402597e-01, 5.78487864e-01,\n",
       "       1.66566031e+00, 2.41242366e+00, 8.58235790e-01, 3.44117590e-01,\n",
       "       1.05493911e+00, 1.01589203e+00, 7.00322340e-01, 3.36832511e+00,\n",
       "       1.64346611e+00, 2.63832858e+00, 9.51749858e-01, 4.01760112e+00,\n",
       "       1.25522384e+00, 8.69698076e-03, 3.39881856e-01, 1.84136151e+00,\n",
       "       5.85508020e-01, 1.90010711e-01, 1.21633440e-01, 1.59889665e+00,\n",
       "       1.04669887e+00, 6.96645288e-01, 3.36368534e-01, 1.01251486e+00,\n",
       "       4.59407021e-01, 7.75526126e-01, 1.43576533e+00, 1.83187847e+00,\n",
       "       1.10883978e-01, 7.14639103e-01, 1.03701495e+00, 1.66133471e-01,\n",
       "       1.76119911e-03, 3.41263514e+00, 1.64956501e+00, 3.20298367e-01,\n",
       "       3.27240431e-01, 1.28605990e-01, 6.55250931e-01, 2.69269833e+00,\n",
       "       2.46425057e+00, 2.79548699e-01, 5.02292628e-01, 3.51457428e+00,\n",
       "       3.22438657e-01, 2.77819546e+00, 1.46539020e+00, 2.16037995e+00,\n",
       "       2.04798144e+00, 1.58375712e-01, 1.55679228e+00, 2.39934102e+00,\n",
       "       1.82121227e+00, 1.24490309e+00, 3.67272931e-01, 4.36622324e-01,\n",
       "       2.69650156e-01, 9.41037109e-02, 2.16264981e-01, 9.56612527e-01,\n",
       "       2.68947885e+00, 1.17468572e+00, 8.27472138e-01, 3.06193416e-01,\n",
       "       7.48970469e-01, 1.63159618e+00, 3.49665133e-01, 2.02530653e-01,\n",
       "       1.99297441e-02, 1.35992991e+00, 3.90458688e-02, 5.68595405e-01,\n",
       "       1.78429596e+00, 1.35499458e-02, 7.11994463e-01, 6.53058959e-01,\n",
       "       3.01035396e-02, 1.14943343e-02, 4.03233600e-01, 6.33989878e-02,\n",
       "       9.11734896e-01, 2.17085754e+00, 5.31255866e-01, 3.90238194e-02,\n",
       "       8.42976847e-02, 8.54648015e-02, 1.65740692e+00, 1.61291396e+00,\n",
       "       1.70544147e-02, 1.97540104e+00, 2.42249792e+00, 5.12287833e-01,\n",
       "       3.38120572e-01, 1.85179541e+00, 9.59836623e-01, 1.51519326e-01,\n",
       "       2.59749983e-01, 1.84198789e+00, 1.86019982e+00, 2.48648548e-01,\n",
       "       1.66673678e+00, 7.67770589e-01, 9.42707731e-01, 7.42064107e-01,\n",
       "       1.02062163e+00, 5.16968787e-03, 2.50499294e-02, 1.17126810e+00,\n",
       "       1.88250723e-01, 1.18394365e+00, 3.35844306e-01, 5.66824433e-02,\n",
       "       8.72807248e-01, 3.50719465e-01, 3.89812456e-01, 3.41092619e+00,\n",
       "       2.16831843e-01, 4.26785540e-01, 1.09830564e-01, 5.13799796e-01,\n",
       "       9.74448662e-02, 7.02882024e-01, 1.35708801e+00, 5.30455347e-03,\n",
       "       9.44878038e-02, 5.78240269e-02, 2.15697648e+00, 4.23954538e+00,\n",
       "       7.34333170e-01, 2.21167292e-01, 2.70827497e+00, 1.06304691e+00,\n",
       "       1.56921648e+00, 7.15833947e-01, 1.55216900e+00, 4.07662618e-01,\n",
       "       1.20195720e-01, 2.35192216e+00, 4.23285943e-03, 7.63454217e-02,\n",
       "       1.41899293e-01, 2.84990043e+00, 3.60868993e-01, 2.39924888e-01,\n",
       "       2.95260789e-01, 1.00837501e-01, 5.13826594e-01, 1.31314666e+00,\n",
       "       1.04472069e+00, 2.88810150e-01, 2.58044198e-01, 6.84814312e-01,\n",
       "       2.00074103e+00, 1.00529615e+00, 1.40442768e+00, 5.74694487e-01,\n",
       "       5.11179170e-01, 1.28343570e+00, 4.65802195e-01, 8.04297828e-01,\n",
       "       8.38856679e-02, 9.02081087e-01, 3.29784702e-01, 1.35653203e+00,\n",
       "       3.55000913e-01, 1.41690485e+00, 2.56648808e-01, 4.41738723e-03,\n",
       "       1.50567435e-01, 3.50641329e-01, 2.17650934e-01, 7.96026417e-01,\n",
       "       2.35712422e-01, 1.50729734e+00, 6.62967024e-01, 1.01982068e+00,\n",
       "       1.83557890e-01, 2.58604415e+00, 1.26351034e+00, 1.68198098e-01,\n",
       "       1.28602778e+00, 2.06298634e-01, 1.76998564e+00, 2.18954542e-01,\n",
       "       3.25193297e+00, 7.93183196e-01, 2.52139397e-01, 2.39179811e-01,\n",
       "       9.88829066e-01, 1.00314611e+00, 3.61370289e-01, 1.69482017e+00,\n",
       "       5.43102147e-01, 1.68124699e+00, 3.08177572e-01, 4.09988818e+00,\n",
       "       2.05811320e+00, 5.95158028e-01, 4.08546616e-01, 3.01562163e-02,\n",
       "       4.70352735e+00, 1.14240596e+00, 2.09682295e-01, 4.60916354e-02,\n",
       "       1.32266329e-02, 1.08414923e+00, 1.13742597e-01, 3.71002291e-01,\n",
       "       3.68093384e-01, 1.24965019e-01, 2.93617025e+00, 3.78938728e+00,\n",
       "       2.34841182e+00, 1.59051876e+00, 6.76681310e-02, 1.26244488e+00,\n",
       "       6.08641403e-01, 1.64265999e-01, 1.04049489e+00, 2.96704175e-02,\n",
       "       1.40047796e+00, 2.20485009e+00, 1.04342876e-02, 3.96645876e-01,\n",
       "       1.76312007e+00, 1.19456729e-01, 2.50057930e-02, 1.68391111e+00,\n",
       "       2.86223499e-01, 2.86611440e-01, 1.72256540e-01, 3.23041167e-01,\n",
       "       5.59858922e-01, 2.98974668e-01, 4.57201199e-01, 4.29699800e-01,\n",
       "       4.05018878e-01, 3.61496833e-01, 3.78522277e-01, 3.15019255e-01,\n",
       "       2.30553563e+00, 3.41046630e+00, 2.27010384e+00, 4.67248037e-01,\n",
       "       1.04491765e+00, 3.73155455e-01, 1.66058439e+00, 1.63359177e+00,\n",
       "       1.58190878e+00, 1.18147672e-01, 1.66917806e+00, 1.51209498e+00,\n",
       "       2.16352039e+00, 3.89229204e-01, 1.13353969e-01, 1.75842301e-01,\n",
       "       1.11714199e+00, 1.25228771e+00, 2.70804245e-01, 1.63844132e+00,\n",
       "       2.50465596e+00, 4.17480736e+00, 5.82498279e+00, 7.25513279e-01,\n",
       "       1.20425387e+00, 7.96481254e-02, 2.31406571e+00, 1.67976729e+00,\n",
       "       4.44822103e-01, 3.71743273e+00, 4.87737708e-01, 1.63422013e-02,\n",
       "       1.88510247e-02, 7.85568532e-01, 5.85452762e-01, 2.60361659e-02,\n",
       "       4.59347828e-01, 5.45279928e-01, 5.19873030e-01, 6.25421450e+00,\n",
       "       1.70403313e-01, 5.74402664e-01, 3.15029500e-01, 3.47258930e+00,\n",
       "       8.91132475e-01, 1.21802583e+00, 1.04964120e+00, 1.40816002e+00,\n",
       "       2.16555968e+00, 2.91760692e-01, 2.58762706e-01, 9.22916907e-01,\n",
       "       2.69402383e-01, 1.31299297e+00, 1.09064090e+00, 2.73483248e-01,\n",
       "       2.05690164e-01, 3.75094571e-01, 4.56225334e-01, 8.91370804e-01,\n",
       "       1.42395029e+00, 3.89125497e-01, 6.97199671e-01, 8.76664008e-01,\n",
       "       3.10065227e-01, 1.25122740e+00, 6.11145360e-01, 1.05048341e+00,\n",
       "       6.98499154e-01, 5.64566763e-01, 1.26502040e+00, 1.24378732e-02,\n",
       "       8.37016330e-02, 8.58901799e-01, 1.67997689e+00, 8.24478101e-01,\n",
       "       9.25310529e-01, 2.49206284e-01, 2.52000807e+00, 2.30043175e-01,\n",
       "       1.16583782e+00, 4.70339400e-01, 2.37659686e-01, 1.72032111e+00,\n",
       "       1.21686889e-01, 1.48302861e+00, 6.59829468e-01, 2.98994418e+00,\n",
       "       7.97849505e-01, 7.43233223e-01, 2.06818363e+00, 1.04051081e+00,\n",
       "       3.99330120e-01, 1.05042972e-02, 1.47451148e-01, 1.47105915e+00,\n",
       "       1.79016045e+00, 1.09266895e+00, 8.56975683e-01, 2.39084931e+00,\n",
       "       1.25307605e+00, 6.57587042e-01, 1.22891424e+00, 1.01991088e+00,\n",
       "       2.52557027e-02, 1.62492762e+00, 1.37179486e+00, 4.89503486e-01,\n",
       "       8.82664925e-01, 2.69654661e-01, 4.47679561e+00, 8.88632595e-01,\n",
       "       2.21991571e-01, 4.62208673e+00, 1.91801268e+00, 4.21779010e-01,\n",
       "       1.07014448e+00, 2.70396434e+00, 8.18883549e-01, 9.59994681e-01,\n",
       "       6.32972928e-01, 5.26483737e+00, 2.71015806e+00, 2.86622790e-02,\n",
       "       5.94919334e-01, 4.15478947e-01, 1.69321243e-01, 3.50472354e-01,\n",
       "       1.26319285e+00, 6.67498008e-01, 3.68599887e-01, 2.52508758e+00,\n",
       "       1.18991870e+00, 3.23958097e-01, 1.57578021e+00, 6.59961790e+00,\n",
       "       1.21841131e+00, 6.44031595e-01, 1.58700810e+00, 7.60369005e-01,\n",
       "       8.54802746e-01, 3.38818186e+00, 2.85923619e+00, 8.89807746e-01,\n",
       "       2.60791453e-01, 6.83899808e-01, 5.72089482e-01, 4.01927154e-01,\n",
       "       9.25710123e-01, 9.94738555e-02, 1.23024020e-01, 3.49622256e+00,\n",
       "       3.05537034e+00, 4.78038082e-01, 4.38812156e+00, 1.26666643e+00,\n",
       "       2.58007539e+00, 4.03174456e-01, 1.84900007e+00, 9.28673092e-01,\n",
       "       1.84398361e+00, 9.19364990e-02, 4.31544531e-01, 5.60709354e-01,\n",
       "       1.62276778e+00, 2.77163922e-01, 3.33784169e-03, 4.92096031e-01,\n",
       "       2.54584375e+00, 1.65610617e-01, 1.38627220e+00, 2.94663014e+00,\n",
       "       2.88718630e-01, 1.71309524e-01, 4.20155489e-01, 3.45764031e-01,\n",
       "       3.15276901e-01, 6.43381536e-01, 8.17812386e-01, 6.36770688e-03,\n",
       "       1.85442900e+00, 1.46221779e-01, 1.43734363e+00, 8.60339327e-02,\n",
       "       1.44291192e+00, 4.51603073e-01, 2.76736675e-01, 1.42140554e+00,\n",
       "       5.74375523e-02, 5.95609692e-01, 2.31087575e+00, 2.37822755e+00,\n",
       "       6.32769729e-01, 1.77812267e+00, 1.10229335e+00, 3.03424064e-01,\n",
       "       4.42479370e-01, 2.62581143e+00, 2.13792897e+00, 3.16126734e+00,\n",
       "       2.49994953e-01, 1.63527835e-01, 1.31502802e-01, 6.50026303e-01,\n",
       "       2.97627636e-01, 2.92698697e+00, 6.75194228e-01, 1.27615368e+00,\n",
       "       5.58128154e+00, 5.71527538e-01, 2.16980373e-02, 1.52167706e-02,\n",
       "       6.38084127e-01, 1.01622057e+00, 1.11543529e-01, 2.48022443e-01,\n",
       "       1.32778952e+00, 1.24871869e+00, 3.22860907e+00, 1.31427883e+00,\n",
       "       1.83287163e+00, 9.02034763e-01, 1.14567989e+00, 1.24068929e+00,\n",
       "       1.93109962e-01, 4.81087592e-01, 5.08787499e-01, 4.89622471e-01,\n",
       "       2.07417934e-01, 5.50579897e-01, 1.33932834e+00, 4.61725578e+00,\n",
       "       7.13201959e-02, 1.91356006e+00, 1.53595312e+00, 6.52651279e-01,\n",
       "       3.53166569e-01, 6.60280305e-01, 4.99047024e-01, 2.29953455e+00,\n",
       "       3.28521455e-01, 9.93966005e-02, 7.02207232e-01, 1.95731229e-01,\n",
       "       2.63216047e-01, 1.19650235e+00, 2.16448353e+00, 2.26738701e+00,\n",
       "       1.64412542e+00, 1.54663884e+00, 1.66885436e+00, 3.92393980e-01,\n",
       "       9.69786341e-01, 2.00393295e-01, 1.91491782e+00, 3.16621748e+00,\n",
       "       2.91145863e-01, 7.19618994e-02, 1.30730595e+00, 2.48957976e+00,\n",
       "       1.85443263e+00, 1.31547591e-02, 5.63665906e-01, 5.03194140e-01,\n",
       "       5.47165361e-01, 1.51096760e-01, 1.43229010e+00, 1.17914459e+00,\n",
       "       9.46305426e-01, 2.64381022e+00, 1.25673519e+00, 3.90192456e-01,\n",
       "       1.69306259e+00, 2.93803642e+00, 1.75955453e-01, 7.52851586e-01,\n",
       "       1.51113480e+00, 4.42896544e-01, 4.59964844e-01, 1.20789014e+00,\n",
       "       8.05390030e-01, 9.74835502e-01, 2.29761330e-01, 1.03054221e+00,\n",
       "       6.85414041e-01, 1.06984364e+00, 3.46737062e-01, 1.52292959e-01,\n",
       "       1.81244911e+00, 1.20099761e-01, 1.18764804e-01, 6.14174471e-01,\n",
       "       5.36082579e-01, 2.90820755e+00, 5.31260209e-01, 3.94242291e-01,\n",
       "       3.87819372e-01, 2.86636764e-01, 1.34295092e+00, 2.94752274e-02,\n",
       "       1.04510781e+00, 6.72399840e-02, 2.74690727e-01, 9.48015894e-02,\n",
       "       1.43114478e+00, 2.42488177e-01, 1.14102905e+00, 6.44104533e-01,\n",
       "       2.67098454e+00, 1.71938471e-01, 6.56301828e-01, 9.55126159e-02,\n",
       "       1.94140349e-01, 7.64793615e-02, 4.21584267e-01, 1.13008062e+00,\n",
       "       3.25230164e-01, 3.71740967e-01, 5.60001443e-02, 3.60371209e-01,\n",
       "       1.93268878e+00, 8.38974308e-01, 3.50906513e+00, 1.17742975e+00,\n",
       "       1.42367697e-01, 1.74790648e-01, 4.95864046e-01, 1.89761712e-01,\n",
       "       2.73743626e-02, 2.60185349e-01, 5.14095326e-01, 7.24820997e-01,\n",
       "       2.35916343e-01, 1.80458387e-01, 1.17101521e+00, 1.00029504e-01])"
      ]
     },
     "execution_count": 373,
     "metadata": {},
     "output_type": "execute_result"
    }
   ],
   "source": [
    "original_data"
   ]
  },
  {
   "cell_type": "code",
   "execution_count": 336,
   "metadata": {
    "scrolled": true
   },
   "outputs": [],
   "source": [
    "# mix-max scale the data betYouen 0 and 1\n",
    "scaled_data = minmax_scale(original_data)"
   ]
  },
  {
   "cell_type": "code",
   "execution_count": 374,
   "metadata": {},
   "outputs": [
    {
     "data": {
      "text/plain": [
       "array([2.23356358e-01, 2.91141485e-03, 1.51928141e-01, 2.09122472e-01,\n",
       "       1.04337588e-01, 3.83258842e-02, 3.31871197e-02, 2.16368583e-01,\n",
       "       2.78117091e-02, 1.37509447e-02, 1.74990823e-01, 4.64431239e-01,\n",
       "       3.32665940e-04, 1.08531113e-01, 2.53546060e-01, 1.43432261e-01,\n",
       "       1.93622453e-01, 5.20434093e-02, 3.78384092e-01, 1.89761249e-01,\n",
       "       1.18267828e-01, 2.29753688e-02, 7.05670319e-02, 1.69677320e-01,\n",
       "       8.81098542e-02, 8.60013715e-02, 1.45496287e-01, 1.08825319e-01,\n",
       "       1.59020789e-01, 1.39004276e-01, 2.47677367e-01, 1.11497639e-01,\n",
       "       3.62433386e-01, 5.80155846e-02, 1.41037297e-02, 5.39439309e-02,\n",
       "       1.80754879e-02, 2.67127455e-01, 7.01294228e-03, 1.48912957e-01,\n",
       "       1.19947548e-01, 2.59036229e-01, 3.33544136e-02, 2.94353644e-01,\n",
       "       6.54102531e-02, 2.12690116e-01, 5.29204176e-02, 3.26144769e-01,\n",
       "       5.94192442e-02, 2.70665767e-02, 7.52805140e-02, 1.46046425e-02,\n",
       "       2.60569272e-01, 2.45707014e-02, 7.31954253e-02, 4.37310019e-01,\n",
       "       6.65421264e-01, 9.20912421e-02, 2.64880719e-01, 4.36133650e-02,\n",
       "       1.37617440e-01, 3.53076807e-01, 1.15644597e-01, 1.34942029e-01,\n",
       "       5.80687301e-03, 6.67083401e-02, 1.23070184e-02, 5.49790974e-02,\n",
       "       6.05940023e-02, 2.25028904e-01, 5.91378491e-03, 8.47952943e-02,\n",
       "       5.70592100e-02, 1.53108875e-01, 6.41750343e-02, 6.41002467e-03,\n",
       "       3.20982374e-01, 2.18093489e-01, 3.18704331e-01, 8.16447851e-02,\n",
       "       1.40738366e-01, 1.08927583e-01, 1.37792584e-01, 4.58243541e-02,\n",
       "       5.39810522e-02, 3.63250172e-03, 5.44568405e-02, 4.17424644e-02,\n",
       "       1.23332525e-01, 1.26073410e-01, 9.74328146e-02, 5.22408598e-02,\n",
       "       9.79816167e-03, 5.83961820e-01, 6.26433250e-02, 1.03295962e-01,\n",
       "       5.72006340e-01, 8.78224715e-02, 5.78012721e-02, 1.10912551e-01,\n",
       "       1.30544228e-01, 2.91296687e-01, 1.04224212e-02, 9.44019779e-02,\n",
       "       2.30569670e-01, 1.91914887e-01, 1.33404110e-01, 5.46218496e-03,\n",
       "       6.51775386e-02, 1.25267548e-01, 5.37338016e-02, 1.08575206e-01,\n",
       "       1.69367552e-01, 2.60134184e-02, 7.58352821e-03, 6.22096637e-02,\n",
       "       1.70660639e-02, 2.96084933e-02, 3.28634006e-01, 6.86501730e-02,\n",
       "       3.71520112e-02, 2.11366825e-01, 1.68649713e-02, 2.06608886e-01,\n",
       "       9.58966036e-02, 1.37950585e-01, 2.39413913e-02, 3.05587722e-02,\n",
       "       1.56729606e-01, 7.28856891e-03, 4.30552838e-02, 1.18222824e-01,\n",
       "       3.87128531e-02, 7.25317157e-02, 3.86833828e-01, 3.93048189e-01,\n",
       "       1.26507594e-01, 1.15291023e-01, 2.00221715e-03, 5.77518324e-01,\n",
       "       1.28720249e-01, 2.37545080e-01, 1.24701873e-01, 3.17760613e-01,\n",
       "       1.32736995e-01, 1.86750780e-01, 2.41038678e-02, 8.45188718e-02,\n",
       "       1.79156632e-01, 1.64819562e-02, 8.75060854e-02, 2.72820551e-02,\n",
       "       1.06919806e-01, 2.58825751e-01, 1.40449819e-02, 2.43718619e-01,\n",
       "       1.25940680e-01, 1.34626634e-01, 3.31942626e-02, 8.65659181e-02,\n",
       "       5.29079438e-02, 5.53512151e-03, 4.45664101e-03, 9.12019281e-02,\n",
       "       2.06763758e-01, 1.23235681e-01, 7.34415077e-02, 2.76224762e-02,\n",
       "       2.75848995e-01, 1.38251234e-01, 2.31102835e-01, 2.85769932e-01,\n",
       "       1.39813343e-01, 2.29953339e-01, 1.44693434e-01, 2.97538838e-03,\n",
       "       2.10127833e-01, 2.90813658e-02, 9.27084774e-02, 1.08820483e-01,\n",
       "       1.00021542e-01, 2.81699689e-01, 2.88556035e-02, 1.96758172e-03,\n",
       "       2.86025161e-01, 2.05468627e-01, 9.22008339e-02, 8.14859543e-02,\n",
       "       1.85458100e-02, 6.24073771e-02, 1.48051801e-02, 1.90429189e-01,\n",
       "       1.18913433e-02, 3.46851992e-02, 1.28985765e-01, 5.24625338e-02,\n",
       "       1.61349122e-01, 2.46395096e-01, 6.53076308e-02, 1.46012991e-02,\n",
       "       2.54109366e-01, 2.32611346e-01, 7.55026996e-02, 3.02654179e-01,\n",
       "       7.31748335e-02, 4.48184594e-02, 2.67766303e-01, 2.01807303e-01,\n",
       "       1.07111227e-01, 1.56411586e-01, 3.60727626e-02, 3.42354892e-01,\n",
       "       5.11992624e-01, 5.75189073e-02, 3.03859460e-01, 5.60354299e-02,\n",
       "       3.61137865e-03, 7.37894953e-03, 3.06687782e-02, 1.05747395e-02,\n",
       "       4.48536735e-02, 3.70846943e-01, 9.25225405e-02, 2.08771333e-02,\n",
       "       2.51354351e-01, 7.80350805e-02, 3.48217256e-03, 2.94333253e-01,\n",
       "       4.83263352e-02, 1.86884177e-01, 6.63763903e-02, 2.39414011e-01,\n",
       "       2.81926860e-01, 1.16818018e-01, 1.23850129e-01, 1.95409669e-02,\n",
       "       7.16109004e-02, 8.45975424e-02, 1.08225806e-01, 3.36725537e-01,\n",
       "       5.38378871e-02, 7.62598765e-02, 2.38652671e-01, 8.02892190e-02,\n",
       "       3.07135292e-02, 2.77721580e-01, 1.27392261e-01, 9.11926690e-03,\n",
       "       6.82127478e-01, 3.91071586e-02, 1.44285685e-01, 6.92871828e-02,\n",
       "       2.45784910e-01, 1.49430815e-01, 2.60663189e-01, 5.12699471e-02,\n",
       "       4.84308621e-02, 1.39009191e-01, 4.22438363e-01, 1.85944214e-01,\n",
       "       4.60685017e-02, 1.95109053e-02, 9.27672752e-02, 5.57703264e-01,\n",
       "       1.72702996e-01, 3.22809186e-02, 6.98796323e-03, 4.62013553e-01,\n",
       "       2.96270155e-01, 2.66440590e-01, 5.03150621e-01, 1.38207637e-01,\n",
       "       4.04778198e-01, 2.37900806e-02, 1.80713734e-02, 7.02500764e-02,\n",
       "       2.20233570e-01, 5.84405162e-02, 1.53753988e-01, 1.13713899e-03,\n",
       "       1.18573172e-01, 6.21956473e-02, 3.45757679e-01, 4.27942528e-01,\n",
       "       7.31972465e-02, 7.61785144e-02, 3.44655364e-01, 8.92141062e-03,\n",
       "       7.85210047e-02, 2.08708169e-02, 1.35232846e-02, 2.31976901e-01,\n",
       "       5.47857527e-02, 1.32685988e-01, 3.19164478e-01, 3.22093192e-01,\n",
       "       1.38972085e-01, 1.56796075e-01, 8.56848018e-03, 5.32485104e-02,\n",
       "       1.78112806e-01, 3.14893688e-02, 2.45962997e-01, 1.09332201e-01,\n",
       "       2.14328761e-01, 2.94029910e-02, 1.28030389e-02, 9.94501419e-02,\n",
       "       1.13798440e-01, 1.80358713e-01, 3.44584861e-02, 1.68398424e-01,\n",
       "       2.38649806e-01, 6.19483858e-03, 5.00887730e-01, 5.61235534e-01,\n",
       "       1.20981104e-01, 9.90443934e-03, 6.39177903e-02, 2.86158809e-03,\n",
       "       2.44313408e-01, 3.50629992e-02, 2.31667429e-02, 1.82158895e-01,\n",
       "       8.78096098e-03, 4.46766297e-02, 1.07954153e-01, 8.10824007e-01,\n",
       "       2.37451214e-02, 9.02101993e-02, 1.39156853e-01, 1.52433346e-02,\n",
       "       5.13725673e-02, 1.93102914e-01, 1.21030115e-01, 2.76145119e-01,\n",
       "       1.31334864e-01, 3.06585361e-02, 1.44600867e-01, 3.30138861e-01,\n",
       "       1.09966202e-01, 1.48854779e-01, 1.06330856e-01, 3.64124651e-01,\n",
       "       8.05547049e-02, 1.15941465e-01, 6.33185957e-02, 2.07665201e-02,\n",
       "       1.64505295e-01, 4.15584659e-01, 1.43511732e-01, 2.80103697e-01,\n",
       "       3.69850799e-02, 3.53608041e-01, 1.22112646e-03, 3.85246743e-02,\n",
       "       2.11986838e-02, 3.60609504e-01, 3.65080728e-01, 1.31597489e-01,\n",
       "       1.36102351e-02, 1.85715391e-02, 2.23191159e-01, 1.99758648e-01,\n",
       "       1.35496725e-02, 6.67747127e-02, 2.24614874e-01, 2.10968202e-02,\n",
       "       1.16714653e-01, 2.12736994e-01, 4.79574014e-02, 1.26426130e-01,\n",
       "       9.78818541e-02, 1.23004862e-01, 8.78125069e-02, 1.79081043e-01,\n",
       "       1.91718081e-01, 2.13765498e-01, 5.49801348e-03, 1.71880106e-01,\n",
       "       9.80371226e-02, 1.57308305e-02, 1.44086976e-01, 2.75524347e-01,\n",
       "       2.00383178e-01, 5.85351094e-02, 1.03830736e-02, 5.49930892e-03,\n",
       "       1.23863463e-01, 2.63127603e-02, 4.69941740e-02, 4.04751654e-02,\n",
       "       2.69418921e-03, 2.46661510e-02, 4.96060072e-03, 6.07241076e-01,\n",
       "       6.74892633e-02, 2.64307966e-01, 8.02792473e-02, 4.39792432e-02,\n",
       "       4.06733887e-02, 2.24550715e-01, 1.68345199e-01, 1.85445132e-01,\n",
       "       2.90491196e-01, 1.11625196e-01, 8.83643588e-02, 1.22026181e-01,\n",
       "       1.59715017e-01, 2.35231517e-01, 3.37436988e-01, 5.57766662e-02,\n",
       "       2.18206862e-02, 2.10408731e-01, 1.13149799e-01, 2.32521098e-01,\n",
       "       8.49106170e-02, 2.76398440e-01, 1.16557844e-01, 4.34211124e-02,\n",
       "       8.93294828e-03, 1.43522137e-02, 2.87428791e-02, 8.74112142e-02,\n",
       "       2.52187822e-01, 3.65370539e-01, 1.29811033e-01, 5.18890310e-02,\n",
       "       1.59624248e-01, 1.53706102e-01, 1.05876980e-01, 5.10251142e-01,\n",
       "       2.48823972e-01, 3.99609677e-01, 1.43984433e-01, 6.08658251e-01,\n",
       "       1.89980277e-01, 1.05121738e-03, 5.12470447e-02, 2.78817863e-01,\n",
       "       8.84752196e-02, 2.85319188e-02, 1.81683608e-02, 2.42068829e-01,\n",
       "       1.58375320e-01, 1.05319670e-01, 5.07145501e-02, 1.53194242e-01,\n",
       "       6.93628010e-02, 1.17275194e-01, 2.17343933e-01, 2.77380573e-01,\n",
       "       1.65391253e-02, 1.08046891e-01, 1.56907584e-01, 2.49129800e-02,\n",
       "       0.00000000e+00, 5.16966963e-01, 2.49748348e-01, 4.82788854e-02,\n",
       "       4.93310550e-02, 1.92251509e-02, 9.90457600e-02, 4.07850193e-01,\n",
       "       3.73225653e-01, 4.21026877e-02, 7.58627311e-02, 5.32417305e-01,\n",
       "       4.86032771e-02, 4.20808513e-01, 2.21834008e-01, 3.27169693e-01,\n",
       "       3.10134084e-01, 2.37371801e-02, 2.35687307e-01, 3.63387677e-01,\n",
       "       2.75763956e-01, 1.88416019e-01, 5.53985557e-02, 6.59094529e-02,\n",
       "       4.06024212e-02, 1.39958347e-02, 3.25111307e-02, 1.44721441e-01,\n",
       "       4.07362236e-01, 1.77773567e-01, 1.25148359e-01, 4.61410774e-02,\n",
       "       1.13250303e-01, 2.47024913e-01, 5.27298409e-02, 3.04294959e-02,\n",
       "       2.75370409e-03, 2.05849986e-01, 5.65102750e-03, 8.59118698e-02,\n",
       "       2.70168759e-01, 1.78675397e-03, 1.07646058e-01, 9.87135353e-02,\n",
       "       4.29568901e-03, 1.47519651e-03, 6.08489119e-02, 9.34209267e-03,\n",
       "       1.37919591e-01, 3.28757723e-01, 8.02525261e-02, 5.64768560e-03,\n",
       "       1.25095905e-02, 1.26864838e-02, 2.50936902e-01, 2.44193355e-01,\n",
       "       2.31790660e-03, 2.99133481e-01, 3.66897438e-01, 7.73776481e-02,\n",
       "       5.09800968e-02, 2.80399271e-01, 1.45210099e-01, 2.26979963e-02,\n",
       "       3.91019077e-02, 2.78912800e-01, 2.81673081e-01, 3.74193257e-02,\n",
       "       2.52350977e-01, 1.16099731e-01, 1.42613969e-01, 1.12203545e-01,\n",
       "       1.54422941e-01, 5.16605456e-04, 3.52974176e-03, 1.77255578e-01,\n",
       "       2.82651674e-02, 1.79176739e-01, 5.06350959e-02, 8.32410382e-03,\n",
       "       1.32019546e-01, 5.28896401e-02, 5.88147446e-02, 5.16707947e-01,\n",
       "       3.25970469e-02, 6.44185468e-02, 1.63794653e-02, 7.76068079e-02,\n",
       "       1.45022348e-02, 1.06264937e-01, 2.05419256e-01, 5.37046275e-04,\n",
       "       1.40540495e-02, 8.49712722e-03, 3.26653848e-01, 6.42297093e-01,\n",
       "       1.11031810e-01, 3.32541465e-02, 4.10211057e-01, 1.60853101e-01,\n",
       "       2.37570374e-01, 1.08227987e-01, 2.34986582e-01, 6.15201933e-02,\n",
       "       1.79504537e-02, 3.56200668e-01, 3.74615642e-04, 1.13043108e-02,\n",
       "       2.12399421e-02, 4.31676431e-01, 5.44279468e-02, 3.60971296e-02,\n",
       "       4.44840806e-02, 1.50164373e-02, 7.76108694e-02, 1.98759312e-01,\n",
       "       1.58075499e-01, 4.35063936e-02, 3.88433714e-02, 1.03526515e-01,\n",
       "       3.02974120e-01, 1.52100143e-01, 2.12594263e-01, 8.68362733e-02,\n",
       "       7.72096143e-02, 1.94256190e-01, 7.03320816e-02, 1.21635959e-01,\n",
       "       1.24471434e-02, 1.36456417e-01, 4.97166758e-02, 2.05334989e-01,\n",
       "       5.35385549e-02, 2.14485358e-01, 3.86318801e-02, 4.02583482e-04,\n",
       "       2.25537235e-02, 5.28777974e-02, 3.27211918e-02, 1.20382308e-01,\n",
       "       3.54586700e-02, 2.28185638e-01, 1.00215245e-01, 1.54301545e-01,\n",
       "       2.75539010e-02, 3.91685219e-01, 1.91236216e-01, 2.52259038e-02,\n",
       "       1.94649056e-01, 3.10005877e-02, 2.67999825e-01, 3.29187723e-02,\n",
       "       4.92610240e-01, 1.19951377e-01, 3.79484140e-02, 3.59842025e-02,\n",
       "       1.49604320e-01, 1.51774274e-01, 5.45039254e-02, 2.56607418e-01,\n",
       "       8.20480001e-02, 2.54550207e-01, 4.64418047e-02, 6.21130038e-01,\n",
       "       3.11669697e-01, 8.99378170e-02, 6.16541758e-02, 4.30367291e-03,\n",
       "       7.12620229e-01, 1.72881105e-01, 3.15134301e-02, 6.71891470e-03,\n",
       "       1.73775126e-03, 1.64051462e-01, 1.69723901e-02, 5.59637938e-02,\n",
       "       5.55229072e-02, 1.86733094e-02, 4.44751862e-01, 5.74069165e-01,\n",
       "       3.55668625e-01, 2.40799040e-01, 9.98914267e-03, 1.91074729e-01,\n",
       "       9.19814163e-02, 2.46299378e-02, 1.57435018e-01, 4.23004313e-03,\n",
       "       2.11995627e-01, 3.33909782e-01, 1.31453120e-03, 5.98504477e-02,\n",
       "       2.66959249e-01, 1.78384489e-02, 3.52305225e-03, 2.54953992e-01,\n",
       "       4.31143496e-02, 4.31731476e-02, 2.58410190e-02, 4.86945962e-02,\n",
       "       8.45877303e-02, 4.50469725e-02, 6.90284770e-02, 6.48602449e-02,\n",
       "       6.11194965e-02, 5.45231051e-02, 5.71035558e-02, 4.74787601e-02,\n",
       "       3.49170122e-01, 5.16638245e-01, 3.43799925e-01, 7.05512198e-02,\n",
       "       1.58105351e-01, 5.62901368e-02, 2.51418493e-01, 2.47327373e-01,\n",
       "       2.39494075e-01, 1.76400425e-02, 2.52720988e-01, 2.28912789e-01,\n",
       "       3.27645672e-01, 5.87263445e-02, 1.69134880e-02, 2.63844927e-02,\n",
       "       1.69051988e-01, 1.89535264e-01, 4.07773400e-02, 2.48062392e-01,\n",
       "       3.79349670e-01, 6.32485116e-01, 8.82592917e-01, 1.09695029e-01,\n",
       "       1.82255046e-01, 1.18048830e-02, 3.50462979e-01, 2.54325937e-01,\n",
       "       6.71522472e-02, 5.63163418e-01, 7.36567238e-02, 2.20996043e-03,\n",
       "       2.59020866e-03, 1.18797265e-01, 8.84668445e-02, 3.67922007e-03,\n",
       "       6.93538295e-02, 8.23780742e-02, 7.85272938e-02, 9.47649152e-01,\n",
       "       2.55601358e-02, 8.67920433e-02, 4.74803130e-02, 5.26053878e-01,\n",
       "       1.34796998e-01, 1.84342384e-01, 1.58821274e-01, 2.13159952e-01,\n",
       "       3.27954756e-01, 4.39535907e-02, 3.89522718e-02, 1.39614385e-01,\n",
       "       4.05648676e-02, 1.98736019e-01, 1.65035366e-01, 4.11833814e-02,\n",
       "       3.09083652e-02, 5.65840377e-02, 6.88805706e-02, 1.34833120e-01,\n",
       "       2.15553195e-01, 5.87106261e-02, 1.05403694e-01, 1.32604094e-01,\n",
       "       4.67279060e-02, 1.89374559e-01, 9.23609270e-02, 1.58948922e-01,\n",
       "       1.05600650e-01, 8.53012713e-02, 1.91465086e-01, 1.61820340e-03,\n",
       "       1.24192503e-02, 1.29911976e-01, 2.54357705e-01, 1.24694570e-01,\n",
       "       1.39977173e-01, 3.75038587e-02, 3.81676503e-01, 3.45994140e-02,\n",
       "       1.76432541e-01, 7.10197603e-02, 3.57538057e-02, 2.60472451e-01,\n",
       "       1.81764617e-02, 2.24507363e-01, 9.97397031e-02, 4.52902074e-01,\n",
       "       1.20658623e-01, 1.12380741e-01, 3.13196016e-01, 1.57437431e-01,\n",
       "       6.02572834e-02, 1.32514216e-03, 2.20814055e-02, 2.22693220e-01,\n",
       "       2.71057607e-01, 1.65342747e-01, 1.29620045e-01, 3.62100637e-01,\n",
       "       1.89654748e-01, 9.93998312e-02, 1.85992678e-01, 1.54315216e-01,\n",
       "       3.56092965e-03, 2.46014198e-01, 2.07648290e-01, 7.39243529e-02,\n",
       "       1.33513619e-01, 4.06031040e-02, 6.78255775e-01, 1.34418105e-01,\n",
       "       3.33790777e-02, 7.00276732e-01, 2.90435451e-01, 6.36597352e-02,\n",
       "       1.61928841e-01, 4.09557719e-01, 1.23846635e-01, 1.45234055e-01,\n",
       "       9.56692086e-02, 7.97694829e-01, 4.10496466e-01, 4.07724525e-03,\n",
       "       8.99016395e-02, 6.27048702e-02, 2.53961326e-02, 5.28521868e-02,\n",
       "       1.91188095e-01, 1.00901981e-01, 5.55996750e-02, 3.82446375e-01,\n",
       "       1.80082344e-01, 4.88335701e-02, 2.38565202e-01, 1.00000000e+00,\n",
       "       1.84400808e-01, 9.73453084e-02, 2.40266949e-01, 1.14977915e-01,\n",
       "       1.29290705e-01, 5.13260717e-01, 4.33091399e-01, 1.34596216e-01,\n",
       "       3.92597574e-02, 1.03387909e-01, 8.64414474e-02, 6.06509013e-02,\n",
       "       1.40037737e-01, 1.48097573e-02, 1.83791232e-02, 5.29635838e-01,\n",
       "       4.62818349e-01, 7.21866062e-02, 6.64815948e-01, 1.91714566e-01,\n",
       "       3.90780569e-01, 6.08399477e-02, 2.79975598e-01, 1.40486818e-01,\n",
       "       2.79215281e-01, 1.36673626e-02, 6.51398404e-02, 8.47166255e-02,\n",
       "       2.45686843e-01, 4.17412405e-02, 2.38962842e-04, 7.43172904e-02,\n",
       "       3.85592272e-01, 2.48337339e-02, 2.09842539e-01, 4.46337208e-01,\n",
       "       4.34925225e-02, 2.56974852e-02, 6.34136673e-02, 5.21385727e-02,\n",
       "       4.75178101e-02, 9.72467827e-02, 1.23684285e-01, 6.98182453e-04,\n",
       "       2.80798430e-01, 2.18950770e-02, 2.17583148e-01, 1.27727439e-02,\n",
       "       2.18427103e-01, 6.81800005e-02, 4.16764851e-02, 2.15167501e-01,\n",
       "       8.43855145e-03, 9.00062733e-02, 3.49979494e-01, 3.60187628e-01,\n",
       "       9.56384109e-02, 2.69233109e-01, 1.66801463e-01, 4.57213424e-02,\n",
       "       6.67971723e-02, 3.97712522e-01, 3.23766925e-01, 4.78868561e-01,\n",
       "       3.76233928e-02, 2.45180584e-02, 1.96642045e-02, 9.82538927e-02,\n",
       "       4.48428104e-02, 4.43360003e-01, 1.02068453e-01, 1.93152494e-01,\n",
       "       8.45656490e-01, 8.63562767e-02, 3.02171434e-03, 2.03938523e-03,\n",
       "       9.64438842e-02, 1.53755897e-01, 1.66390897e-02, 3.73244304e-02,\n",
       "       2.00978649e-01, 1.88994327e-01, 4.89075167e-01, 1.98930909e-01,\n",
       "       2.77531101e-01, 1.36449396e-01, 1.73377316e-01, 1.87777356e-01,\n",
       "       2.90016549e-02, 7.26488032e-02, 7.68471221e-02, 7.39423867e-02,\n",
       "       3.11702337e-02, 8.31813606e-02, 2.02727523e-01, 6.99544532e-01,\n",
       "       1.05426656e-02, 2.89760592e-01, 2.32528834e-01, 9.86517455e-02,\n",
       "       5.32605339e-02, 9.98080339e-02, 7.53708131e-02, 3.48260572e-01,\n",
       "       4.95252127e-02, 1.47980482e-02, 1.06162662e-01, 2.93989455e-02,\n",
       "       3.96272395e-02, 1.81080190e-01, 3.27791650e-01, 3.43388150e-01,\n",
       "       2.48923899e-01, 2.34148408e-01, 2.52671926e-01, 5.92060116e-02,\n",
       "       1.46718122e-01, 3.01055486e-02, 2.89966380e-01, 4.79618826e-01,\n",
       "       4.38604046e-02, 1.06399250e-02, 1.97874069e-01, 3.77064655e-01,\n",
       "       2.80798979e-01, 1.72685775e-03, 8.51647334e-02, 7.59993682e-02,\n",
       "       8.26638386e-02, 2.26339503e-02, 2.16817214e-01, 1.78449372e-01,\n",
       "       1.43159252e-01, 4.00440497e-01, 1.90209343e-01, 5.88723391e-02,\n",
       "       2.56341032e-01, 4.45034706e-01, 2.64016425e-02, 1.13838542e-01,\n",
       "       2.28767260e-01, 6.68604010e-02, 6.94473472e-02, 1.82806174e-01,\n",
       "       1.21801498e-01, 1.47483395e-01, 3.45566964e-02, 1.55926546e-01,\n",
       "       1.03617413e-01, 1.61883243e-01, 5.22860496e-02, 2.28152515e-02,\n",
       "       2.74435773e-01, 1.79359097e-02, 1.77335777e-02, 9.28200323e-02,\n",
       "       8.09840838e-02, 4.40513712e-01, 8.02531843e-02, 5.94861498e-02,\n",
       "       5.85126641e-02, 4.31769858e-02, 2.03276577e-01, 4.20045926e-03,\n",
       "       1.58134173e-01, 9.92425084e-03, 4.13663921e-02, 1.41016082e-02,\n",
       "       2.16643624e-01, 3.64856329e-02, 1.72672416e-01, 9.73563632e-02,\n",
       "       4.04559156e-01, 2.57928111e-02, 9.92050387e-02, 1.42093745e-02,\n",
       "       2.91578249e-02, 1.13246113e-02, 6.36302192e-02, 1.71013023e-01,\n",
       "       4.90263701e-02, 5.60757508e-02, 8.22069160e-03, 5.43525005e-02,\n",
       "       2.92659824e-01, 1.26891678e-01, 5.31582313e-01, 1.78189464e-01,\n",
       "       2.13109355e-02, 2.62250995e-02, 7.48883872e-02, 2.84941795e-02,\n",
       "       3.88204301e-03, 3.91678938e-02, 7.76515997e-02, 1.09590103e-01,\n",
       "       3.54895770e-02, 2.70841269e-02, 1.77217248e-01, 1.48939739e-02])"
      ]
     },
     "execution_count": 374,
     "metadata": {},
     "output_type": "execute_result"
    }
   ],
   "source": [
    "scaled_data"
   ]
  },
  {
   "cell_type": "code",
   "execution_count": 375,
   "metadata": {
    "scrolled": true
   },
   "outputs": [
    {
     "data": {
      "image/png": "[encoded data removed]",
      "text/plain": [
       "<Figure size 640x480 with 2 Axes>"
      ]
     },
     "metadata": {},
     "output_type": "display_data"
    }
   ],
   "source": [
    "# plot both together to compare\n",
    "fig, ax=plt.subplots(1,2)\n",
    "\n",
    "sns.distplot(original_data, ax=ax[0])\n",
    "ax[0].set_title(\"Original Data\")\n",
    "\n",
    "sns.distplot(scaled_data, ax=ax[1])\n",
    "ax[1].set_title(\"Scaled data\")\n",
    "plt.show()"
   ]
  },
  {
   "cell_type": "code",
   "execution_count": 376,
   "metadata": {},
   "outputs": [
    {
     "data": {
      "image/png": "[encoded data removed]",
      "text/plain": [
       "<Figure size 1000x400 with 2 Axes>"
      ]
     },
     "metadata": {},
     "output_type": "display_data"
    }
   ],
   "source": [
    "# Plot both original and scaled data distributions side by side for comparison\n",
    "\n",
    "import matplotlib.pyplot as plt\n",
    "import seaborn as sns\n",
    "\n",
    "# Create a figure with 1 row and 2 columns of subplots (side-by-side)\n",
    "# 'fig' is the overall figure, and 'ax' is an array of two Axes objects\n",
    "fig, ax = plt.subplots(1, 2, figsize=(10, 4))  # Added figsize for better layout\n",
    "\n",
    "# Plot the distribution of the original data\n",
    "sns.distplot(original_data, ax=ax[0])   # ax[0] refers to the first subplot\n",
    "ax[0].set_title(\"Original Data\")        # Set title for the first plot\n",
    "\n",
    "# Plot the distribution of the scaled (normalized/standardized) data\n",
    "sns.distplot(scaled_data, ax=ax[1])     # ax[1] refers to the second subplot\n",
    "ax[1].set_title(\"Scaled Data\")          # Set title for the second plot\n",
    "\n",
    "# Display both plots\n",
    "plt.show()\n"
   ]
  },
  {
   "cell_type": "markdown",
   "metadata": {},
   "source": [
    "### Normalization\n",
    "The point of normalization is to change your observations so that they can be described as a normal distribution.\n",
    "\n",
    "Normal distribution (Gaussian distribution), also known as the bell curve, is a specific statistical distribution where a roughly equal observations fall above and below the mean, the mean and the median are the same, and there are more observations closer to the mean.\n",
    "\n",
    "The general formula is given as:\n",
    "\n",
    "${\\displaystyle x'={\\frac {x-{\\text{mean}}(x)}{{\\text{max}}(x)-{\\text{min}}(x)}}}$\n",
    "\n",
    "where ${\\displaystyle x}$ is an original value, ${\\displaystyle x'}$ is the normalized value. "
   ]
  },
  {
   "cell_type": "code",
   "execution_count": 339,
   "metadata": {},
   "outputs": [],
   "source": [
    "# for Box-Cox Transformation\n",
    "from scipy import stats\n",
    "\n",
    "# normalize the exponential data with boxcox\n",
    "normalized_data = stats.boxcox(original_data)"
   ]
  },
  {
   "cell_type": "code",
   "execution_count": 340,
   "metadata": {},
   "outputs": [
    {
     "data": {
      "text/plain": [
       "(array([ 0.410208  , -2.39448983,  0.00415501,  0.33777201, -0.35278639,\n",
       "        -1.14286538, -1.23958205,  0.37508096, -1.3531397 , -1.75394085,\n",
       "         0.14814612,  1.30922806, -2.86485595, -0.31705045,  0.55337562,\n",
       "        -0.05290501,  0.25468836, -0.9241054 ,  1.03930996,  0.23324203,\n",
       "        -0.23779006, -1.46978663, -0.68733683,  0.11625514, -0.50180215,\n",
       "        -0.52259483, -0.03882107, -0.31458126,  0.05003821, -0.08362436,\n",
       "         0.52655625, -0.29237244,  0.9844615 , -0.84189256, -1.74086477,\n",
       "        -0.89723245, -1.60769337,  0.61375153, -2.06869014, -0.01582347,\n",
       "        -0.22460114,  0.57805906, -1.23626854,  0.72835552, -0.74820749,\n",
       "         0.35625679, -0.91161779,  0.85278944, -0.82346871, -1.37010327,\n",
       "        -0.63446304, -1.72269436,  0.58488341, -1.4295017 , -0.65754717,\n",
       "         1.22840092,  1.82081662, -0.46350581,  0.60392044, -1.05270331,\n",
       "        -0.09339185,  0.95146496, -0.25866245, -0.11243892, -2.14627592,\n",
       "        -0.73256567, -1.81010533, -0.88288327, -0.80829054,  0.41849683,\n",
       "        -2.13896648, -0.5346555 , -0.85463159,  0.01189992, -0.76330238,\n",
       "        -2.10619687,  0.8332027 ,  0.38382784,  0.82448653, -0.56675938,\n",
       "        -0.0715104 , -0.31372412, -0.09215437, -1.01734447, -0.89671444,\n",
       "        -2.32077884, -0.89009792, -1.08365227, -0.19842552, -0.17761077,\n",
       "        -0.41397218, -0.92128069, -1.92005256,  1.62924101, -0.78231625,\n",
       "        -0.36182427,  1.59951249, -0.50461473, -0.84473392, -0.29720156,\n",
       "        -0.14435393,  0.71588273, -1.89097619, -0.44182821,  0.44563946,\n",
       "         0.24524275, -0.12351246, -2.17049954, -0.75103545, -0.18369618,\n",
       "        -0.90016954, -0.31668009,  0.11437365, -1.39466383, -2.03522603,\n",
       "        -0.78776071, -1.63937337, -1.31354338,  0.86215331, -0.70957415,\n",
       "        -1.16409122,  0.34942704, -1.64584426,  0.32461025, -0.42801133,\n",
       "        -0.091039  , -1.44516108, -1.29329983,  0.03538203, -2.05229511,\n",
       "        -1.06183292, -0.2381453 , -1.13597146, -0.66499525,  1.06768568,\n",
       "         1.08826785, -0.17434377, -0.261502  , -2.50738765,  1.61327428,\n",
       "        -0.15782027,  0.47914299, -0.18798487,  0.82086242, -0.1283448 ,\n",
       "         0.21629954, -1.44108996, -0.53743724,  0.17265949, -1.6583239 ,\n",
       "        -0.5077189 , -1.36516344, -0.33066074,  0.57711982, -1.74302591,\n",
       "         0.50820274, -0.17861112, -0.11470236, -1.23944033, -0.5169916 ,\n",
       "        -0.91179434, -2.16528691, -2.24784509, -0.47195405,  0.32542455,\n",
       "        -0.1991671 , -0.65479812, -1.35741637,  0.65135362, -0.0889192 ,\n",
       "         0.44822614,  0.69308879, -0.0779588 ,  0.44264386, -0.04428198,\n",
       "        -2.38748426,  0.3430041 , -1.32497571, -0.45767703, -0.3146218 ,\n",
       "        -0.39067398,  0.67609583, -1.32991784, -2.51229904,  0.69414847,\n",
       "         0.31860112, -0.46246882, -0.56840154, -1.59336538, -0.78527509,\n",
       "        -1.7155449 ,  0.23697455, -1.82714156, -1.21032918, -0.15585139,\n",
       "        -0.91811866,  0.06477548,  0.52063494, -0.74945366, -1.72281415,\n",
       "         0.55592602,  0.45552133, -0.6320307 ,  0.76175361, -0.65777751,\n",
       "        -1.03327421,  0.61653596,  0.29914045, -0.32903608,  0.03333543,\n",
       "        -1.18403863,  0.91286101,  1.44303118, -0.84848919,  0.76654754,\n",
       "        -0.86844129, -2.32279026, -2.04701401, -1.29098591, -1.88407026,\n",
       "        -1.03271219,  1.01360678, -0.45942992, -1.52596234,  0.54341312,\n",
       "        -0.60466846, -2.33527076,  0.72827264, -0.97879272,  0.21705447,\n",
       "        -0.73654446,  0.48799778,  0.67704895, -0.24928373, -0.19446916,\n",
       "        -1.56388837, -0.67541095, -0.53664488, -0.31961797,  0.89223916,\n",
       "        -0.89871364, -0.62378048,  0.48439673, -0.58085   , -1.29004631,\n",
       "         0.65931389, -0.16771229, -1.95320618,  1.8579678 , -1.12899794,\n",
       "        -0.04706389, -0.70213479,  0.51780932, -0.01237136,  0.58530054,\n",
       "        -0.9352459 , -0.97721391, -0.08358987,  1.18251952,  0.21172657,\n",
       "        -1.01351632, -1.56476281, -0.45712325,  1.56334573,  0.13450247,\n",
       "        -1.25774374, -2.07019818,  1.30216461,  0.73612712,  0.61075241,\n",
       "         1.41886261, -0.08922638,  1.12648089, -1.44897036, -1.60781989,\n",
       "        -0.69098328,  0.39461031, -0.83628127,  0.01611314, -2.65140702,\n",
       "        -0.23538246, -0.78793714,  0.92520686,  1.19963585, -0.6575268 ,\n",
       "        -0.62466414,  0.92121721, -1.9631964 , -0.59949207, -1.52613746,\n",
       "        -1.76250699,  0.45245735, -0.88554838, -0.128715  ,  0.82625078,\n",
       "         0.83743654, -0.08385028,  0.03580941, -1.98141297, -0.90698468,\n",
       "         0.16655645, -1.27391168,  0.51863452, -0.31033849,  0.36467142,\n",
       "        -1.31798269, -1.79030512, -0.39577848, -0.27355918,  0.17965584,\n",
       "        -1.21469674,  0.1084711 ,  0.48438317, -2.1201811 ,  1.4126276 ,\n",
       "         1.57233969, -0.21655243, -1.91501133, -0.7664725 , -2.40001776,\n",
       "         0.51097409, -1.20309662, -1.46484972,  0.19007007, -1.97038359,\n",
       "        -1.03554106, -0.3219069 ,  2.12398321, -1.45010558, -0.48144611,\n",
       "        -0.0825541 , -1.70016197, -0.93376083,  0.25182091, -0.216172  ,\n",
       "         0.65261505, -0.1385592 , -1.29120109, -0.04491303,  0.86778916,\n",
       "        -0.30505177, -0.01621184, -0.33567265,  0.99035946, -0.57807684,\n",
       "        -0.25628317, -0.77389266, -1.52903457,  0.08450754,  1.16097795,\n",
       "        -0.05236002,  0.66938388, -1.1671489 ,  0.95335533, -2.63495757,\n",
       "        -1.13931764, -1.51709743,  0.97807856,  0.99368477, -0.13663999,\n",
       "        -1.75922324, -1.59258913,  0.40938685,  0.28813909, -1.76150884,\n",
       "        -0.73177185,  0.41644916, -1.5198952 , -0.25010712,  0.35649817,\n",
       "        -0.98438508, -0.17495612, -0.4098989 , -0.2009363 , -0.50471237,\n",
       "         0.17221841,  0.24415018,  0.3617843 , -2.16793294,  0.12956294,\n",
       "        -0.4084936 , -1.68341454, -0.04842167,  0.64996956,  0.29150151,\n",
       "        -0.83503619, -1.89277181, -2.16784036, -0.1943674 , -1.38761103,\n",
       "        -0.99913428, -1.10519166, -2.41907279, -1.42715193, -2.20772317,\n",
       "         1.68587814, -0.72326179,  0.60140453, -0.58095429, -1.04676377,\n",
       "        -1.10179068,  0.4161316 ,  0.10814622,  0.2088897 ,  0.71258037,\n",
       "        -0.29132207, -0.4993169 , -0.20846467,  0.05444869,  0.46811107,\n",
       "         0.8948592 , -0.87196067, -1.5002203 ,  0.34446268, -0.2788348 ,\n",
       "         0.45508586, -0.53349692,  0.65369336, -0.25135727, -1.05583875,\n",
       "        -1.96260956, -1.73179439, -1.33239593, -0.50865131,  0.54720912,\n",
       "         0.9946915 , -0.14975052, -0.92631934,  0.05387282,  0.01580084,\n",
       "        -0.3395489 ,  1.43829522,  0.53183222,  1.10974407, -0.04912288,\n",
       "         1.68927462,  0.23446703, -2.66899502, -0.93557762,  0.66395602,\n",
       "        -0.49823597, -1.33705253, -1.60484303,  0.5004899 ,  0.04592493,\n",
       "        -0.34432505, -0.9433209 ,  0.01245819, -0.70125498, -0.24564823,\n",
       "         0.3800331 ,  0.65786721, -1.65644807, -0.32112502,  0.03652608,\n",
       "        -1.42110575, -3.02690952,  1.45649457,  0.53607275, -0.97951023,\n",
       "        -0.9637183 , -1.5731237 , -0.39940384,  1.13635507,  1.02175942,\n",
       "        -1.07761637, -0.62810033,  1.49771922, -0.97461509,  1.17742001,\n",
       "         0.40262414,  0.85665122,  0.7912832 , -1.45030626,  0.47029067,\n",
       "         0.98779186,  0.6509912 ,  0.22569562, -0.87712462, -0.74216575,\n",
       "        -1.10300691, -1.74483885, -1.25309535, -0.04409111,  1.13479028,\n",
       "         0.16456739, -0.18459864, -1.0123812 , -0.27801593,  0.52354612,\n",
       "        -0.91431855, -1.2960268 , -2.41221033,  0.32061356, -2.15710074,\n",
       "        -0.5234856 ,  0.62696398, -2.53888317, -0.32450796, -0.40239036,\n",
       "        -2.26131497, -2.58899652, -0.80502529, -1.94213727, -0.09125772,\n",
       "         0.86261735, -0.58123381, -2.15733513, -1.80195146, -1.7949079 ,\n",
       "         0.54150843,  0.51041511, -2.46496328,  0.74767019,  0.99998599,\n",
       "        -0.61170926, -0.93945212,  0.67062902, -0.04076517, -1.47699492,\n",
       "        -1.12909047,  0.6643574 ,  0.67598416, -1.15921545,  0.54795113,\n",
       "        -0.25501655, -0.05852947, -0.28657059,  0.02046849, -2.80296466,\n",
       "        -2.33063993,  0.16152491, -1.34297634,  0.1727768 , -0.94448133,\n",
       "        -1.99433964, -0.13356149, -0.91205347, -0.83136399,  1.45579586,\n",
       "        -1.25136665, -0.76030997, -1.66169856, -0.60925015, -1.72637247,\n",
       "        -0.33623488,  0.31834038, -2.79676707, -1.74269192, -1.98516008,\n",
       "         0.85470869,  1.76825511, -0.29621574, -1.23825303,  1.14390674,\n",
       "         0.06164893,  0.47926318, -0.31959961,  0.46693852, -0.79647376,\n",
       "        -1.61154743,  0.96255151, -2.84963483, -1.85193923, -1.51596698,\n",
       "         1.21115611, -0.89049853, -1.18358353, -1.0386269 , -1.70808786,\n",
       "        -0.60920661,  0.28274279,  0.04401014, -1.05444667, -1.1336575 ,\n",
       "        -0.35981814,  0.76302751,  0.00528596,  0.35576312, -0.51431767,\n",
       "        -0.6135158 ,  0.25817852, -0.6900387 , -0.21147865, -1.80445495,\n",
       "        -0.10162414, -0.95799169,  0.31789526, -0.90290608,  0.36547311,\n",
       "        -1.13740987, -2.83988564, -1.48076935, -0.91222117, -1.24887457,\n",
       "        -0.22120937, -1.19558213,  0.43401962, -0.38894838,  0.01967914,\n",
       "        -1.35897139,  1.08377405,  0.24147162, -1.41350234,  0.26033799,\n",
       "        -1.28404258,  0.61755256, -1.24492239,  1.38964407, -0.22457123,\n",
       "        -1.1496388 , -1.18569454, -0.0112167 ,  0.00314251, -0.88944541,\n",
       "         0.56718673, -0.56260092,  0.55791908, -1.00769139,  1.71891952,\n",
       "         0.79728127, -0.48406641, -0.79477505, -2.26063872,  1.92410241,\n",
       "         0.13556935, -1.27341591, -2.08668627, -2.54637976,  0.08168728,\n",
       "        -1.64238082, -0.86941441, -0.87542351, -1.58952625,  1.25093461,\n",
       "         1.60467402,  0.96066831,  0.49452748, -1.91102089,  0.24057286,\n",
       "        -0.46454591, -1.42804265,  0.03991091, -2.26690832,  0.35267627,\n",
       "         0.88182998, -2.61744007, -0.81787237,  0.6130176 , -1.61501626,\n",
       "        -2.33128859,  0.55974241, -1.06086262, -1.05989768, -1.39875234,\n",
       "        -0.97324134, -0.53674368, -1.02963282, -0.70515009, -0.75490304,\n",
       "        -0.80157008, -0.88917974, -0.85403749, -0.99168706,  0.9374992 ,\n",
       "         1.45560779,  0.91811469, -0.68751846,  0.04420091, -0.86498857,\n",
       "         0.54370558,  0.52494226,  0.48837598, -1.62119958,  0.54963261,\n",
       "         0.4375731 ,  0.85844166, -0.83252349, -1.64427801, -1.38592955,\n",
       "         0.11245439,  0.23197704, -1.10001195,  0.52832988,  1.04257576,\n",
       "         1.74553526,  2.25915812, -0.30731027,  0.1906242 , -1.83073825,\n",
       "         0.94213349,  0.55690546, -0.72726735,  1.57723114, -0.65239937,\n",
       "        -2.47902225, -2.43130763, -0.23361838, -0.4983176 , -2.31635818,\n",
       "        -0.70135933, -0.55920782, -0.59942523,  2.3749331 , -1.40545593,\n",
       "        -0.51475471, -0.99166328,  1.48084725, -0.11347926,  0.20260173,\n",
       "         0.04876809,  0.35867426,  0.85960329, -1.04717904, -1.13173111,\n",
       "        -0.07934981, -1.10365112,  0.28261678,  0.08779442, -1.0930954 ,\n",
       "        -1.28596698, -0.86101861, -0.70687767, -0.11322007,  0.37092851,\n",
       "        -0.8327298 , -0.34360378, -0.1293096 , -1.00325006,  0.2310768 ,\n",
       "        -0.46095559,  0.04958084, -0.34191475, -0.5295807 ,  0.24274445,\n",
       "        -2.56524595, -1.80557608, -0.14900623,  0.55704908, -0.18804033,\n",
       "        -0.07681448, -1.15767883,  1.05042081, -1.21197937,  0.15667738,\n",
       "        -0.68214892, -1.19001637,  0.58445328, -1.60459491,  0.41591699,\n",
       "        -0.39318908,  1.27530032, -0.21905833, -0.28511838,  0.80322175,\n",
       "         0.03992638, -0.81261904, -2.61549817, -1.49324901,  0.4069091 ,\n",
       "         0.63080498,  0.08969691, -0.1511599 ,  0.98329874,  0.23264601,\n",
       "        -0.39622894,  0.21200175,  0.01976805, -2.32762672,  0.51887169,\n",
       "         0.33006688, -0.64942351, -0.12272089, -1.1029952 ,  1.84941744,\n",
       "        -0.11620099, -1.23578104,  1.89758425,  0.71235157, -0.76966192,\n",
       "         0.06842074,  1.14182009, -0.19449583, -0.04060233, -0.43010332,\n",
       "         2.09831983,  1.14481753, -2.28016176, -0.48441487, -0.78154579,\n",
       "        -1.40939465, -0.91258391,  0.24120386, -0.38285008, -0.87437471,\n",
       "         1.05300881,  0.17805033, -0.97115427,  0.48398248,  2.46396113,\n",
       "         0.20293556, -0.41476754,  0.49202219, -0.26402186, -0.15359379,\n",
       "         1.44647238,  1.21550277, -0.11492085, -1.1263128 , -0.36102381,\n",
       "        -0.51822471, -0.80756083, -0.07639169, -1.71538253, -1.59841318,\n",
       "         1.49036261,  1.30451886, -0.66888761,  1.81945782,  0.24413065,\n",
       "         1.08078506, -0.80513994,  0.66884396, -0.0732609 ,  0.66563558,\n",
       "        -1.75707392, -0.75149425, -0.5354465 ,  0.51735471, -1.08367284,\n",
       "        -2.90189489, -0.64506846,  1.06354479, -1.42304219,  0.34152122,\n",
       "         1.25569946, -1.05467296, -1.40217133, -0.77271194, -0.92274303,\n",
       "        -0.99108933, -0.41566369, -0.1957355 , -2.75154141,  0.672309  ,\n",
       "        -1.49822511,  0.38124519, -1.79149859,  0.38551375, -0.71509729,\n",
       "        -1.0847619 ,  0.36896034, -1.98825284, -0.48340733,  0.94040188,\n",
       "         0.97659879, -0.43038692,  0.62291078,  0.09869053, -1.01896409,\n",
       "        -0.73150335,  1.10356111,  0.84379588,  1.35085945, -1.15551024,\n",
       "        -1.43080048, -1.56031367, -0.40653437, -1.03288553,  1.24674109,\n",
       "        -0.37256043,  0.25209479,  2.19063295, -0.51906922, -2.38247386,\n",
       "        -2.50217752, -0.42299122,  0.01612559, -1.65317917, -1.16094343,\n",
       "         0.29470038,  0.22894458,  1.37974271,  0.2836708 ,  0.65850597,\n",
       "        -0.10167408,  0.13853744,  0.22209915, -1.32671748, -0.66367772,\n",
       "        -0.6174227 , -0.64922327, -1.28051336, -0.55099125,  0.30405562,\n",
       "         1.89600057, -1.88551855,  0.70957925,  0.45512319, -0.40294662,\n",
       "        -0.90681529, -0.39257883, -0.63347388,  0.93423139, -0.96083095,\n",
       "        -1.71579797, -0.33710768, -1.3180703 , -1.11987743,  0.1838387 ,\n",
       "         0.85899038,  0.91661925,  0.53229118,  0.46291924,  0.54940976,\n",
       "        -0.82624703, -0.03055222, -1.30289714,  0.71042513,  1.35299778,\n",
       "        -1.04868902, -1.88113642,  0.27794607,  1.03483751,  0.67231131,\n",
       "        -2.54806439, -0.53094798, -0.62661224, -0.55627818, -1.47866834,\n",
       "         0.3773608 ,  0.16852712, -0.05477891,  1.11244505,  0.23574708,\n",
       "        -0.83060922,  0.56598973,  1.25178562, -1.38552803, -0.27323373,\n",
       "         0.43686258, -0.73074785, -0.70027212,  0.19379634, -0.21019921,\n",
       "        -0.02539866, -1.2128022 ,  0.03020815, -0.3590281 ,  0.06813437,\n",
       "        -0.9206353 , -1.47394002,  0.64532   , -1.61199698, -1.61827838,\n",
       "        -0.45662658, -0.57360573,  1.23813558, -0.58122692, -0.82259846,\n",
       "        -0.83533149, -1.05983473,  0.30698056, -2.26944847,  0.04438507,\n",
       "        -1.91407583, -1.08999411, -1.74094269,  0.37647907, -1.17635733,\n",
       "         0.13431922, -0.41466703,  1.12577475, -1.39989913, -0.39797459,\n",
       "        -1.73699457, -1.32330824, -1.85106656, -0.77002732,  0.12433948,\n",
       "        -0.96826598, -0.86789395, -1.99989057, -0.89154532,  0.72145623,\n",
       "        -0.17146054,  1.49551372,  0.16700554, -1.51402552, -1.38967039,\n",
       "        -0.63876853, -1.33788818, -2.29759698, -1.12792833, -0.6087701 ,\n",
       "        -0.30818525, -1.19499771, -1.36969987,  0.16129952, -1.7124014 ]),\n",
       " np.float64(0.2712081803959841))"
      ]
     },
     "execution_count": 340,
     "metadata": {},
     "output_type": "execute_result"
    }
   ],
   "source": [
    "normalized_data"
   ]
  },
  {
   "cell_type": "code",
   "execution_count": 341,
   "metadata": {
    "scrolled": false
   },
   "outputs": [
    {
     "data": {
      "image/png": "[encoded data removed]",
      "text/plain": [
       "<Figure size 640x480 with 2 Axes>"
      ]
     },
     "metadata": {},
     "output_type": "display_data"
    }
   ],
   "source": [
    "# plot both together to compare\n",
    "fig, ax=plt.subplots(1,2)\n",
    "\n",
    "sns.distplot(original_data, ax=ax[0])\n",
    "ax[0].set_title(\"Originabl Data\")\n",
    "\n",
    "sns.distplot(normalized_data[0], ax=ax[1])\n",
    "ax[1].set_title(\"Normalized data\")\n",
    "plt.show()"
   ]
  },
  {
   "cell_type": "markdown",
   "metadata": {},
   "source": [
    "In scaling, you’re changing the range of your data while in normalization you’re changing the shape of\n",
    "the distribution of your data.\n",
    "\n",
    "You need to normalize our data if you’re going use a machine learning or statistics technique that\n",
    "assumes that data is normally distributed e.g. t-tests, ANOVAs, linear regression, linear discriminant\n",
    "analysis (LDA) and Gaussian Naive Bayes."
   ]
  },
  {
   "cell_type": "markdown",
   "metadata": {},
   "source": [
    "### Standardization\n",
    "Standardization transforms your data such that the resulting distribution has a mean of 0 and a standard deviation of 1.\n",
    "\n",
    "The general method of calculation is to determine the distribution mean and standard deviation for each feature. Next we subtract the mean from each feature. Then we divide the values (mean is already subtracted) of each feature by its standard deviation.\n",
    "\n",
    "${\\displaystyle x'={\\frac {x-{\\bar {x}}}{\\sigma }}}$\n",
    "\n",
    "Where $x$ is the original feature vector, ${\\bar{x}={\\text{average}}(x)}$ is the mean of that feature vector, and $\\sigma$ is its standard deviation."
   ]
  },
  {
   "cell_type": "code",
   "execution_count": 342,
   "metadata": {},
   "outputs": [],
   "source": [
    "from sklearn.preprocessing import StandardScaler\n",
    "\n",
    "standerdized_data = StandardScaler().fit_transform(original_data.reshape(1, -1))"
   ]
  },
  {
   "cell_type": "code",
   "execution_count": 343,
   "metadata": {
    "scrolled": true
   },
   "outputs": [
    {
     "data": {
      "image/png": "[encoded data removed]",
      "text/plain": [
       "<Figure size 640x480 with 2 Axes>"
      ]
     },
     "metadata": {},
     "output_type": "display_data"
    }
   ],
   "source": [
    "# plot both together to compare\n",
    "fig, ax=plt.subplots(1,2)\n",
    "\n",
    "sns.distplot(original_data, ax=ax[0])\n",
    "ax[0].set_title(\"Originabl Data\")\n",
    "\n",
    "sns.distplot(standerdized_data, ax=ax[1])\n",
    "ax[1].set_title(\"Standerdized data\")\n",
    "plt.show()"
   ]
  },
  {
   "cell_type": "markdown",
   "metadata": {},
   "source": [
    "It’s widely used in SVMs, logistics regression and neural networks."
   ]
  },
  {
   "cell_type": "markdown",
   "metadata": {},
   "source": [
    "#### Applications of Data Transformation\n",
    "In stochastic gradient descent, feature scaling can sometimes improve the convergence speed of the algorithm. In support vector machines, it can reduce the time to find support vectors."
   ]
  },
  {
   "cell_type": "markdown",
   "metadata": {},
   "source": [
    "<a id='date'></a>\n",
    "### Extracting Date\n",
    "We can perform the following engineering to the date time variales:\n",
    "* Extracting the parts of the date into different columns: Year, month, day, etc.\n",
    "* Extracting the time period between the current date and columns in terms of years, months, days, etc.\n",
    "* Extracting some specific features from the date: Name of the weekday, Weekend or not, holiday or not, etc."
   ]
  },
  {
   "cell_type": "code",
   "execution_count": 344,
   "metadata": {},
   "outputs": [
    {
     "data": {
      "text/html": [
       "<div>\n",
       "<style scoped>\n",
       "    .dataframe tbody tr th:only-of-type {\n",
       "        vertical-align: middle;\n",
       "    }\n",
       "\n",
       "    .dataframe tbody tr th {\n",
       "        vertical-align: top;\n",
       "    }\n",
       "\n",
       "    .dataframe thead th {\n",
       "        text-align: right;\n",
       "    }\n",
       "</style>\n",
       "<table border=\"1\" class=\"dataframe\">\n",
       "  <thead>\n",
       "    <tr style=\"text-align: right;\">\n",
       "      <th></th>\n",
       "      <th>date</th>\n",
       "    </tr>\n",
       "  </thead>\n",
       "  <tbody>\n",
       "    <tr>\n",
       "      <th>0</th>\n",
       "      <td>01-01-2017</td>\n",
       "    </tr>\n",
       "    <tr>\n",
       "      <th>1</th>\n",
       "      <td>04-12-2008</td>\n",
       "    </tr>\n",
       "    <tr>\n",
       "      <th>2</th>\n",
       "      <td>23-06-1988</td>\n",
       "    </tr>\n",
       "    <tr>\n",
       "      <th>3</th>\n",
       "      <td>25-08-1999</td>\n",
       "    </tr>\n",
       "    <tr>\n",
       "      <th>4</th>\n",
       "      <td>20-02-1993</td>\n",
       "    </tr>\n",
       "  </tbody>\n",
       "</table>\n",
       "</div>"
      ],
      "text/plain": [
       "         date\n",
       "0  01-01-2017\n",
       "1  04-12-2008\n",
       "2  23-06-1988\n",
       "3  25-08-1999\n",
       "4  20-02-1993"
      ]
     },
     "execution_count": 344,
     "metadata": {},
     "output_type": "execute_result"
    }
   ],
   "source": [
    "from datetime import date\n",
    "\n",
    "data = pd.DataFrame({'date':['01-01-2017', \n",
    "                             '04-12-2008', \n",
    "                             '23-06-1988', \n",
    "                             '25-08-1999', \n",
    "                             '20-02-1993',]})\n",
    "data"
   ]
  },
  {
   "cell_type": "code",
   "execution_count": 345,
   "metadata": {},
   "outputs": [
    {
     "data": {
      "text/html": [
       "<div>\n",
       "<style scoped>\n",
       "    .dataframe tbody tr th:only-of-type {\n",
       "        vertical-align: middle;\n",
       "    }\n",
       "\n",
       "    .dataframe tbody tr th {\n",
       "        vertical-align: top;\n",
       "    }\n",
       "\n",
       "    .dataframe thead th {\n",
       "        text-align: right;\n",
       "    }\n",
       "</style>\n",
       "<table border=\"1\" class=\"dataframe\">\n",
       "  <thead>\n",
       "    <tr style=\"text-align: right;\">\n",
       "      <th></th>\n",
       "      <th>date</th>\n",
       "    </tr>\n",
       "  </thead>\n",
       "  <tbody>\n",
       "    <tr>\n",
       "      <th>0</th>\n",
       "      <td>2017-01-01</td>\n",
       "    </tr>\n",
       "    <tr>\n",
       "      <th>1</th>\n",
       "      <td>2008-12-04</td>\n",
       "    </tr>\n",
       "    <tr>\n",
       "      <th>2</th>\n",
       "      <td>1988-06-23</td>\n",
       "    </tr>\n",
       "    <tr>\n",
       "      <th>3</th>\n",
       "      <td>1999-08-25</td>\n",
       "    </tr>\n",
       "    <tr>\n",
       "      <th>4</th>\n",
       "      <td>1993-02-20</td>\n",
       "    </tr>\n",
       "  </tbody>\n",
       "</table>\n",
       "</div>"
      ],
      "text/plain": [
       "        date\n",
       "0 2017-01-01\n",
       "1 2008-12-04\n",
       "2 1988-06-23\n",
       "3 1999-08-25\n",
       "4 1993-02-20"
      ]
     },
     "execution_count": 345,
     "metadata": {},
     "output_type": "execute_result"
    }
   ],
   "source": [
    "#Transform string to date\n",
    "data['date'] = pd.to_datetime(data.date, format=\"%d-%m-%Y\")\n",
    "\n",
    "data"
   ]
  },
  {
   "cell_type": "code",
   "execution_count": 346,
   "metadata": {},
   "outputs": [
    {
     "data": {
      "text/html": [
       "<div>\n",
       "<style scoped>\n",
       "    .dataframe tbody tr th:only-of-type {\n",
       "        vertical-align: middle;\n",
       "    }\n",
       "\n",
       "    .dataframe tbody tr th {\n",
       "        vertical-align: top;\n",
       "    }\n",
       "\n",
       "    .dataframe thead th {\n",
       "        text-align: right;\n",
       "    }\n",
       "</style>\n",
       "<table border=\"1\" class=\"dataframe\">\n",
       "  <thead>\n",
       "    <tr style=\"text-align: right;\">\n",
       "      <th></th>\n",
       "      <th>date</th>\n",
       "      <th>year</th>\n",
       "    </tr>\n",
       "  </thead>\n",
       "  <tbody>\n",
       "    <tr>\n",
       "      <th>0</th>\n",
       "      <td>2017-01-01</td>\n",
       "      <td>2017</td>\n",
       "    </tr>\n",
       "    <tr>\n",
       "      <th>1</th>\n",
       "      <td>2008-12-04</td>\n",
       "      <td>2008</td>\n",
       "    </tr>\n",
       "    <tr>\n",
       "      <th>2</th>\n",
       "      <td>1988-06-23</td>\n",
       "      <td>1988</td>\n",
       "    </tr>\n",
       "    <tr>\n",
       "      <th>3</th>\n",
       "      <td>1999-08-25</td>\n",
       "      <td>1999</td>\n",
       "    </tr>\n",
       "    <tr>\n",
       "      <th>4</th>\n",
       "      <td>1993-02-20</td>\n",
       "      <td>1993</td>\n",
       "    </tr>\n",
       "  </tbody>\n",
       "</table>\n",
       "</div>"
      ],
      "text/plain": [
       "        date  year\n",
       "0 2017-01-01  2017\n",
       "1 2008-12-04  2008\n",
       "2 1988-06-23  1988\n",
       "3 1999-08-25  1999\n",
       "4 1993-02-20  1993"
      ]
     },
     "execution_count": 346,
     "metadata": {},
     "output_type": "execute_result"
    }
   ],
   "source": [
    "#Extracting Year\n",
    "data['year'] = data['date'].dt.year\n",
    "\n",
    "data"
   ]
  },
  {
   "cell_type": "code",
   "execution_count": 347,
   "metadata": {},
   "outputs": [
    {
     "data": {
      "text/html": [
       "<div>\n",
       "<style scoped>\n",
       "    .dataframe tbody tr th:only-of-type {\n",
       "        vertical-align: middle;\n",
       "    }\n",
       "\n",
       "    .dataframe tbody tr th {\n",
       "        vertical-align: top;\n",
       "    }\n",
       "\n",
       "    .dataframe thead th {\n",
       "        text-align: right;\n",
       "    }\n",
       "</style>\n",
       "<table border=\"1\" class=\"dataframe\">\n",
       "  <thead>\n",
       "    <tr style=\"text-align: right;\">\n",
       "      <th></th>\n",
       "      <th>date</th>\n",
       "      <th>year</th>\n",
       "      <th>month</th>\n",
       "    </tr>\n",
       "  </thead>\n",
       "  <tbody>\n",
       "    <tr>\n",
       "      <th>0</th>\n",
       "      <td>2017-01-01</td>\n",
       "      <td>2017</td>\n",
       "      <td>1</td>\n",
       "    </tr>\n",
       "    <tr>\n",
       "      <th>1</th>\n",
       "      <td>2008-12-04</td>\n",
       "      <td>2008</td>\n",
       "      <td>12</td>\n",
       "    </tr>\n",
       "    <tr>\n",
       "      <th>2</th>\n",
       "      <td>1988-06-23</td>\n",
       "      <td>1988</td>\n",
       "      <td>6</td>\n",
       "    </tr>\n",
       "    <tr>\n",
       "      <th>3</th>\n",
       "      <td>1999-08-25</td>\n",
       "      <td>1999</td>\n",
       "      <td>8</td>\n",
       "    </tr>\n",
       "    <tr>\n",
       "      <th>4</th>\n",
       "      <td>1993-02-20</td>\n",
       "      <td>1993</td>\n",
       "      <td>2</td>\n",
       "    </tr>\n",
       "  </tbody>\n",
       "</table>\n",
       "</div>"
      ],
      "text/plain": [
       "        date  year  month\n",
       "0 2017-01-01  2017      1\n",
       "1 2008-12-04  2008     12\n",
       "2 1988-06-23  1988      6\n",
       "3 1999-08-25  1999      8\n",
       "4 1993-02-20  1993      2"
      ]
     },
     "execution_count": 347,
     "metadata": {},
     "output_type": "execute_result"
    }
   ],
   "source": [
    "#Extracting Month\n",
    "data['month'] = data['date'].dt.month\n",
    "\n",
    "data"
   ]
  },
  {
   "cell_type": "code",
   "execution_count": 348,
   "metadata": {},
   "outputs": [
    {
     "data": {
      "text/html": [
       "<div>\n",
       "<style scoped>\n",
       "    .dataframe tbody tr th:only-of-type {\n",
       "        vertical-align: middle;\n",
       "    }\n",
       "\n",
       "    .dataframe tbody tr th {\n",
       "        vertical-align: top;\n",
       "    }\n",
       "\n",
       "    .dataframe thead th {\n",
       "        text-align: right;\n",
       "    }\n",
       "</style>\n",
       "<table border=\"1\" class=\"dataframe\">\n",
       "  <thead>\n",
       "    <tr style=\"text-align: right;\">\n",
       "      <th></th>\n",
       "      <th>date</th>\n",
       "      <th>year</th>\n",
       "      <th>month</th>\n",
       "      <th>passed_years</th>\n",
       "    </tr>\n",
       "  </thead>\n",
       "  <tbody>\n",
       "    <tr>\n",
       "      <th>0</th>\n",
       "      <td>2017-01-01</td>\n",
       "      <td>2017</td>\n",
       "      <td>1</td>\n",
       "      <td>8</td>\n",
       "    </tr>\n",
       "    <tr>\n",
       "      <th>1</th>\n",
       "      <td>2008-12-04</td>\n",
       "      <td>2008</td>\n",
       "      <td>12</td>\n",
       "      <td>17</td>\n",
       "    </tr>\n",
       "    <tr>\n",
       "      <th>2</th>\n",
       "      <td>1988-06-23</td>\n",
       "      <td>1988</td>\n",
       "      <td>6</td>\n",
       "      <td>37</td>\n",
       "    </tr>\n",
       "    <tr>\n",
       "      <th>3</th>\n",
       "      <td>1999-08-25</td>\n",
       "      <td>1999</td>\n",
       "      <td>8</td>\n",
       "      <td>26</td>\n",
       "    </tr>\n",
       "    <tr>\n",
       "      <th>4</th>\n",
       "      <td>1993-02-20</td>\n",
       "      <td>1993</td>\n",
       "      <td>2</td>\n",
       "      <td>32</td>\n",
       "    </tr>\n",
       "  </tbody>\n",
       "</table>\n",
       "</div>"
      ],
      "text/plain": [
       "        date  year  month  passed_years\n",
       "0 2017-01-01  2017      1             8\n",
       "1 2008-12-04  2008     12            17\n",
       "2 1988-06-23  1988      6            37\n",
       "3 1999-08-25  1999      8            26\n",
       "4 1993-02-20  1993      2            32"
      ]
     },
     "execution_count": 348,
     "metadata": {},
     "output_type": "execute_result"
    }
   ],
   "source": [
    "#Extracting passed years since the date\n",
    "data['passed_years'] = date.today().year - data['date'].dt.year\n",
    "\n",
    "data"
   ]
  },
  {
   "cell_type": "code",
   "execution_count": 349,
   "metadata": {},
   "outputs": [
    {
     "data": {
      "text/html": [
       "<div>\n",
       "<style scoped>\n",
       "    .dataframe tbody tr th:only-of-type {\n",
       "        vertical-align: middle;\n",
       "    }\n",
       "\n",
       "    .dataframe tbody tr th {\n",
       "        vertical-align: top;\n",
       "    }\n",
       "\n",
       "    .dataframe thead th {\n",
       "        text-align: right;\n",
       "    }\n",
       "</style>\n",
       "<table border=\"1\" class=\"dataframe\">\n",
       "  <thead>\n",
       "    <tr style=\"text-align: right;\">\n",
       "      <th></th>\n",
       "      <th>date</th>\n",
       "      <th>year</th>\n",
       "      <th>month</th>\n",
       "      <th>passed_years</th>\n",
       "      <th>passed_months</th>\n",
       "    </tr>\n",
       "  </thead>\n",
       "  <tbody>\n",
       "    <tr>\n",
       "      <th>0</th>\n",
       "      <td>2017-01-01</td>\n",
       "      <td>2017</td>\n",
       "      <td>1</td>\n",
       "      <td>8</td>\n",
       "      <td>105</td>\n",
       "    </tr>\n",
       "    <tr>\n",
       "      <th>1</th>\n",
       "      <td>2008-12-04</td>\n",
       "      <td>2008</td>\n",
       "      <td>12</td>\n",
       "      <td>17</td>\n",
       "      <td>202</td>\n",
       "    </tr>\n",
       "    <tr>\n",
       "      <th>2</th>\n",
       "      <td>1988-06-23</td>\n",
       "      <td>1988</td>\n",
       "      <td>6</td>\n",
       "      <td>37</td>\n",
       "      <td>448</td>\n",
       "    </tr>\n",
       "    <tr>\n",
       "      <th>3</th>\n",
       "      <td>1999-08-25</td>\n",
       "      <td>1999</td>\n",
       "      <td>8</td>\n",
       "      <td>26</td>\n",
       "      <td>314</td>\n",
       "    </tr>\n",
       "    <tr>\n",
       "      <th>4</th>\n",
       "      <td>1993-02-20</td>\n",
       "      <td>1993</td>\n",
       "      <td>2</td>\n",
       "      <td>32</td>\n",
       "      <td>392</td>\n",
       "    </tr>\n",
       "  </tbody>\n",
       "</table>\n",
       "</div>"
      ],
      "text/plain": [
       "        date  year  month  passed_years  passed_months\n",
       "0 2017-01-01  2017      1             8            105\n",
       "1 2008-12-04  2008     12            17            202\n",
       "2 1988-06-23  1988      6            37            448\n",
       "3 1999-08-25  1999      8            26            314\n",
       "4 1993-02-20  1993      2            32            392"
      ]
     },
     "execution_count": 349,
     "metadata": {},
     "output_type": "execute_result"
    }
   ],
   "source": [
    "#Extracting passed months since the date\n",
    "data['passed_months'] = (date.today().year - data['date'].dt.year) * 12 + date.today().month - data['date'].dt.month\n",
    "\n",
    "data"
   ]
  },
  {
   "cell_type": "code",
   "execution_count": 350,
   "metadata": {},
   "outputs": [
    {
     "data": {
      "text/html": [
       "<div>\n",
       "<style scoped>\n",
       "    .dataframe tbody tr th:only-of-type {\n",
       "        vertical-align: middle;\n",
       "    }\n",
       "\n",
       "    .dataframe tbody tr th {\n",
       "        vertical-align: top;\n",
       "    }\n",
       "\n",
       "    .dataframe thead th {\n",
       "        text-align: right;\n",
       "    }\n",
       "</style>\n",
       "<table border=\"1\" class=\"dataframe\">\n",
       "  <thead>\n",
       "    <tr style=\"text-align: right;\">\n",
       "      <th></th>\n",
       "      <th>date</th>\n",
       "      <th>year</th>\n",
       "      <th>month</th>\n",
       "      <th>passed_years</th>\n",
       "      <th>passed_months</th>\n",
       "      <th>day_name</th>\n",
       "    </tr>\n",
       "  </thead>\n",
       "  <tbody>\n",
       "    <tr>\n",
       "      <th>0</th>\n",
       "      <td>2017-01-01</td>\n",
       "      <td>2017</td>\n",
       "      <td>1</td>\n",
       "      <td>8</td>\n",
       "      <td>105</td>\n",
       "      <td>Sunday</td>\n",
       "    </tr>\n",
       "    <tr>\n",
       "      <th>1</th>\n",
       "      <td>2008-12-04</td>\n",
       "      <td>2008</td>\n",
       "      <td>12</td>\n",
       "      <td>17</td>\n",
       "      <td>202</td>\n",
       "      <td>Thursday</td>\n",
       "    </tr>\n",
       "    <tr>\n",
       "      <th>2</th>\n",
       "      <td>1988-06-23</td>\n",
       "      <td>1988</td>\n",
       "      <td>6</td>\n",
       "      <td>37</td>\n",
       "      <td>448</td>\n",
       "      <td>Thursday</td>\n",
       "    </tr>\n",
       "    <tr>\n",
       "      <th>3</th>\n",
       "      <td>1999-08-25</td>\n",
       "      <td>1999</td>\n",
       "      <td>8</td>\n",
       "      <td>26</td>\n",
       "      <td>314</td>\n",
       "      <td>Wednesday</td>\n",
       "    </tr>\n",
       "    <tr>\n",
       "      <th>4</th>\n",
       "      <td>1993-02-20</td>\n",
       "      <td>1993</td>\n",
       "      <td>2</td>\n",
       "      <td>32</td>\n",
       "      <td>392</td>\n",
       "      <td>Saturday</td>\n",
       "    </tr>\n",
       "  </tbody>\n",
       "</table>\n",
       "</div>"
      ],
      "text/plain": [
       "        date  year  month  passed_years  passed_months   day_name\n",
       "0 2017-01-01  2017      1             8            105     Sunday\n",
       "1 2008-12-04  2008     12            17            202   Thursday\n",
       "2 1988-06-23  1988      6            37            448   Thursday\n",
       "3 1999-08-25  1999      8            26            314  Wednesday\n",
       "4 1993-02-20  1993      2            32            392   Saturday"
      ]
     },
     "execution_count": 350,
     "metadata": {},
     "output_type": "execute_result"
    }
   ],
   "source": [
    "#Extracting the weekday name of the date\n",
    "data['day_name'] = data['date'].dt.day_name()\n",
    "\n",
    "data"
   ]
  },
  {
   "cell_type": "code",
   "execution_count": null,
   "metadata": {},
   "outputs": [],
   "source": []
  }
 ],
 "metadata": {
  "hide_code_all_hidden": false,
  "kernelspec": {
   "display_name": ".venv",
   "language": "python",
   "name": "python3"
  },
  "language_info": {
   "codemirror_mode": {
    "name": "ipython",
    "version": 3
   },
   "file_extension": ".py",
   "mimetype": "text/x-python",
   "name": "python",
   "nbconvert_exporter": "python",
   "pygments_lexer": "ipython3",
   "version": "3.13.7"
  }
 },
 "nbformat": 4,
 "nbformat_minor": 2
}
